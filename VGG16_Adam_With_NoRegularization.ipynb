{
 "cells": [
  {
   "cell_type": "code",
   "execution_count": null,
   "metadata": {
    "id": "i3ehSwCoJHA6"
   },
   "outputs": [],
   "source": [
    "#importing the required packages and libraries.\n",
    "import keras\n",
    "from keras.models import Sequential\n",
    "from keras.layers import Dense, Flatten\n",
    "from keras.layers import Conv2D, MaxPooling2D\n",
    "from keras.datasets import cifar100\n",
    "from keras.layers import LeakyReLU\n",
    "from keras import backend as K\n",
    "from keras.layers import ELU\n",
    "from keras.preprocessing.image import ImageDataGenerator"
   ]
  },
  {
   "cell_type": "code",
   "execution_count": null,
   "metadata": {
    "id": "Cx3J75qjJL17"
   },
   "outputs": [],
   "source": [
    "(x_train, y_train), (x_test, y_test) = cifar100.load_data()"
   ]
  },
  {
   "cell_type": "code",
   "execution_count": null,
   "metadata": {
    "id": "VTf_xlkRJL4u"
   },
   "outputs": [],
   "source": [
    "batch_size = 128 #batch size as 128\n",
    "num_classes = 100 # we got 100 classes dataset\n",
    "epochs = 50 # iterations over dataset\n",
    "elu_alpha = 0.1"
   ]
  },
  {
   "cell_type": "code",
   "execution_count": null,
   "metadata": {
    "id": "Enf6v70UJL7_"
   },
   "outputs": [],
   "source": [
    "img_rows, img_cols = 32, 32"
   ]
  },
  {
   "cell_type": "code",
   "execution_count": null,
   "metadata": {
    "colab": {
     "base_uri": "https://localhost:8080/",
     "height": 68
    },
    "id": "Xdnhsa2UJMD9",
    "outputId": "5d8266c4-6596-4a9c-91fa-598e8bd757b6"
   },
   "outputs": [
    {
     "name": "stdout",
     "output_type": "stream",
     "text": [
      "x_train shape: (50000, 32, 32, 3)\n",
      "50000 train samples\n",
      "10000 test samples\n"
     ]
    }
   ],
   "source": [
    "#Channels first means that in a specific tensor (consider a photo), you would have (Number_Of_Channels, Height , Width).\n",
    "# we convert channel first to channel last.\n",
    "if K.image_data_format() == 'channels_first':\n",
    "    x_train = x_train.reshape(x_train.shape[0], 3, img_rows, img_cols)\n",
    "    x_test = x_test.reshape(x_test.shape[0], 3, img_rows, img_cols)\n",
    "    input_shape = (1, img_rows, img_cols)\n",
    "else:\n",
    "    x_train = x_train.reshape(x_train.shape[0], img_rows, img_cols, 3)\n",
    "    x_test = x_test.reshape(x_test.shape[0], img_rows, img_cols, 3)\n",
    "    input_shape = (img_rows, img_cols, 3)\n",
    "\n",
    "x_train = x_train.astype('float32') \n",
    "x_test = x_test.astype('float32')\n",
    "x_train /= 255 #normalising the data.\n",
    "x_test /= 255 #normalising the data.\n",
    "print('x_train shape:', x_train.shape)\n",
    "print(x_train.shape[0], 'train samples')\n",
    "print(x_test.shape[0], 'test samples')\n",
    "\n",
    "# convert class vectors to binary class matrices\n",
    "y_train = keras.utils.to_categorical(y_train, num_classes)\n",
    "y_test = keras.utils.to_categorical(y_test, num_classes)"
   ]
  },
  {
   "cell_type": "code",
   "execution_count": null,
   "metadata": {
    "id": "CBkrkxe1JMJ8"
   },
   "outputs": [],
   "source": [
    "initializer = keras.initializers.HeNormal()\n",
    "#layer = tf.keras.layers.Dense(3, kernel_initializer=initializer)"
   ]
  },
  {
   "cell_type": "code",
   "execution_count": null,
   "metadata": {
    "colab": {
     "base_uri": "https://localhost:8080/",
     "height": 1000
    },
    "id": "n-hj2gyzW3js",
    "outputId": "7f11e770-4032-4337-9773-508a58ac7456"
   },
   "outputs": [
    {
     "name": "stdout",
     "output_type": "stream",
     "text": [
      "Model: \"sequential_6\"\n",
      "_________________________________________________________________\n",
      "Layer (type)                 Output Shape              Param #   \n",
      "=================================================================\n",
      "conv2d_78 (Conv2D)           (None, 32, 32, 64)        1792      \n",
      "_________________________________________________________________\n",
      "elu_79 (ELU)                 (None, 32, 32, 64)        0         \n",
      "_________________________________________________________________\n",
      "conv2d_79 (Conv2D)           (None, 32, 32, 64)        36928     \n",
      "_________________________________________________________________\n",
      "elu_80 (ELU)                 (None, 32, 32, 64)        0         \n",
      "_________________________________________________________________\n",
      "max_pooling2d_30 (MaxPooling (None, 16, 16, 64)        0         \n",
      "_________________________________________________________________\n",
      "conv2d_80 (Conv2D)           (None, 16, 16, 128)       73856     \n",
      "_________________________________________________________________\n",
      "elu_81 (ELU)                 (None, 16, 16, 128)       0         \n",
      "_________________________________________________________________\n",
      "conv2d_81 (Conv2D)           (None, 16, 16, 128)       147584    \n",
      "_________________________________________________________________\n",
      "elu_82 (ELU)                 (None, 16, 16, 128)       0         \n",
      "_________________________________________________________________\n",
      "max_pooling2d_31 (MaxPooling (None, 8, 8, 128)         0         \n",
      "_________________________________________________________________\n",
      "conv2d_82 (Conv2D)           (None, 8, 8, 256)         295168    \n",
      "_________________________________________________________________\n",
      "elu_83 (ELU)                 (None, 8, 8, 256)         0         \n",
      "_________________________________________________________________\n",
      "conv2d_83 (Conv2D)           (None, 8, 8, 256)         590080    \n",
      "_________________________________________________________________\n",
      "elu_84 (ELU)                 (None, 8, 8, 256)         0         \n",
      "_________________________________________________________________\n",
      "conv2d_84 (Conv2D)           (None, 8, 8, 256)         590080    \n",
      "_________________________________________________________________\n",
      "elu_85 (ELU)                 (None, 8, 8, 256)         0         \n",
      "_________________________________________________________________\n",
      "max_pooling2d_32 (MaxPooling (None, 4, 4, 256)         0         \n",
      "_________________________________________________________________\n",
      "conv2d_85 (Conv2D)           (None, 4, 4, 512)         1180160   \n",
      "_________________________________________________________________\n",
      "elu_86 (ELU)                 (None, 4, 4, 512)         0         \n",
      "_________________________________________________________________\n",
      "conv2d_86 (Conv2D)           (None, 4, 4, 512)         2359808   \n",
      "_________________________________________________________________\n",
      "elu_87 (ELU)                 (None, 4, 4, 512)         0         \n",
      "_________________________________________________________________\n",
      "conv2d_87 (Conv2D)           (None, 4, 4, 512)         2359808   \n",
      "_________________________________________________________________\n",
      "elu_88 (ELU)                 (None, 4, 4, 512)         0         \n",
      "_________________________________________________________________\n",
      "max_pooling2d_33 (MaxPooling (None, 2, 2, 512)         0         \n",
      "_________________________________________________________________\n",
      "conv2d_88 (Conv2D)           (None, 2, 2, 512)         2359808   \n",
      "_________________________________________________________________\n",
      "elu_89 (ELU)                 (None, 2, 2, 512)         0         \n",
      "_________________________________________________________________\n",
      "conv2d_89 (Conv2D)           (None, 2, 2, 512)         2359808   \n",
      "_________________________________________________________________\n",
      "elu_90 (ELU)                 (None, 2, 2, 512)         0         \n",
      "_________________________________________________________________\n",
      "conv2d_90 (Conv2D)           (None, 2, 2, 512)         2359808   \n",
      "_________________________________________________________________\n",
      "elu_91 (ELU)                 (None, 2, 2, 512)         0         \n",
      "_________________________________________________________________\n",
      "max_pooling2d_34 (MaxPooling (None, 1, 1, 512)         0         \n",
      "_________________________________________________________________\n",
      "elu_92 (ELU)                 (None, 1, 1, 512)         0         \n",
      "_________________________________________________________________\n",
      "flatten_6 (Flatten)          (None, 512)               0         \n",
      "_________________________________________________________________\n",
      "dense_18 (Dense)             (None, 2048)              1050624   \n",
      "_________________________________________________________________\n",
      "elu_93 (ELU)                 (None, 2048)              0         \n",
      "_________________________________________________________________\n",
      "dense_19 (Dense)             (None, 2048)              4196352   \n",
      "_________________________________________________________________\n",
      "elu_94 (ELU)                 (None, 2048)              0         \n",
      "_________________________________________________________________\n",
      "dense_20 (Dense)             (None, 100)               204900    \n",
      "=================================================================\n",
      "Total params: 20,166,564\n",
      "Trainable params: 20,166,564\n",
      "Non-trainable params: 0\n",
      "_________________________________________________________________\n"
     ]
    }
   ],
   "source": [
    "#building the sequential model\n",
    "\n",
    "model = Sequential()\n",
    "model.add(Conv2D(input_shape = input_shape,filters=64,kernel_size=(3,3),padding=\"same\"))\n",
    "model.add(ELU(alpha=elu_alpha))\n",
    "model.add(Conv2D(filters=64,kernel_size=(3,3),padding=\"same\"))\n",
    "model.add(ELU(alpha=elu_alpha))\n",
    "model.add(MaxPooling2D(pool_size=(2,2),strides=(2,2)))\n",
    "model.add(Conv2D(filters=128, kernel_size=(3,3), padding=\"same\"))\n",
    "model.add(ELU(alpha=elu_alpha))\n",
    "model.add(Conv2D(filters=128, kernel_size=(3,3), padding=\"same\"))\n",
    "model.add(ELU(alpha=elu_alpha))\n",
    "model.add(MaxPooling2D(pool_size=(2,2),strides=(2,2)))\n",
    "model.add(Conv2D(filters=256, kernel_size=(3,3), padding=\"same\"))\n",
    "model.add(ELU(alpha=elu_alpha))\n",
    "model.add(Conv2D(filters=256, kernel_size=(3,3), padding=\"same\"))\n",
    "model.add(ELU(alpha=elu_alpha))\n",
    "model.add(Conv2D(filters=256, kernel_size=(3,3), padding=\"same\"))\n",
    "model.add(ELU(alpha=elu_alpha))\n",
    "model.add(MaxPooling2D(pool_size=(2,2),strides=(2,2)))\n",
    "model.add(Conv2D(filters=512, kernel_size=(3,3), padding=\"same\"))\n",
    "model.add(ELU(alpha=elu_alpha))\n",
    "model.add(Conv2D(filters=512, kernel_size=(3,3), padding=\"same\"))\n",
    "model.add(ELU(alpha=elu_alpha))\n",
    "model.add(Conv2D(filters=512, kernel_size=(3,3), padding=\"same\"))\n",
    "model.add(ELU(alpha=elu_alpha))\n",
    "model.add(MaxPooling2D(pool_size=(2,2),strides=(2,2)))\n",
    "model.add(Conv2D(filters=512, kernel_size=(3,3), padding=\"same\"))\n",
    "model.add(ELU(alpha=elu_alpha))\n",
    "model.add(Conv2D(filters=512, kernel_size=(3,3), padding=\"same\"))\n",
    "model.add(ELU(alpha=elu_alpha))\n",
    "model.add(Conv2D(filters=512, kernel_size=(3,3), padding=\"same\"))\n",
    "model.add(ELU(alpha=elu_alpha))\n",
    "model.add(MaxPooling2D(pool_size=(2,2),strides=(2,2)))\n",
    "model.add(ELU(alpha=elu_alpha))\n",
    "model.add(Flatten())\n",
    "model.add(Dense(units=2048))\n",
    "model.add(ELU(alpha=elu_alpha))\n",
    "model.add(Dense(units=2048))\n",
    "model.add(ELU(alpha=elu_alpha))\n",
    "model.add(Dense(units=100, activation=\"softmax\"))\n",
    "model.summary()"
   ]
  },
  {
   "cell_type": "code",
   "execution_count": null,
   "metadata": {
    "id": "y3JOyIFlJMBG"
   },
   "outputs": [],
   "source": [
    "#initial_learning_rate = 0.1\n",
    "#lr_schedule = keras.optimizers.schedules.ExponentialDecay(\n",
    "     #initial_learning_rate,\n",
    "    #  decay_steps=1000,\n",
    "    #  decay_rate=0.96,\n",
    "    #  staircase=True)\n",
    "\n",
    "model.compile(loss=keras.losses.categorical_crossentropy,\n",
    "              optimizer=keras.optimizers.Adam(learning_rate = 0.001, clipnorm = 0.6),\n",
    "              metrics=['accuracy'])"
   ]
  },
  {
   "cell_type": "code",
   "execution_count": null,
   "metadata": {
    "colab": {
     "base_uri": "https://localhost:8080/",
     "height": 54
    },
    "id": "zJnkIr_e-CIu",
    "outputId": "d5446b55-d5f2-438b-c82d-4e14ff0fd0d3"
   },
   "outputs": [
    {
     "name": "stdout",
     "output_type": "stream",
     "text": [
      "WARNING:tensorflow:`period` argument is deprecated. Please use `save_freq` to specify the frequency in number of batches seen.\n"
     ]
    }
   ],
   "source": [
    "from tensorflow.keras.callbacks import ModelCheckpoint, TensorBoard,EarlyStopping\n",
    "import datetime\n",
    "import os\n",
    "\n",
    "checkpoint = ModelCheckpoint('VGG_Adam_Plain.hdf5', monitor='val_accuracy', verbose=1, save_best_only=True, save_weights_only=True, mode='auto', period=1)\n",
    "early = EarlyStopping(monitor='val_accuracy', min_delta=0, patience=10, verbose=1, mode='auto',restore_best_weights=True)"
   ]
  },
  {
   "cell_type": "code",
   "execution_count": null,
   "metadata": {
    "colab": {
     "base_uri": "https://localhost:8080/",
     "height": 1000
    },
    "id": "XUQ5ghfGJL-9",
    "outputId": "5f01c3d9-32fa-4048-843f-1d270e31cc45"
   },
   "outputs": [
    {
     "name": "stdout",
     "output_type": "stream",
     "text": [
      "Epoch 1/50\n",
      "390/391 [============================>.] - ETA: 0s - loss: 4.6088 - accuracy: 0.0135\n",
      "Epoch 00001: val_accuracy improved from -inf to 0.02960, saving model to VGG_Adam_Plain.hdf5\n",
      "391/391 [==============================] - 22s 56ms/step - loss: 4.6086 - accuracy: 0.0135 - val_loss: 4.4143 - val_accuracy: 0.0296\n",
      "Epoch 2/50\n",
      "390/391 [============================>.] - ETA: 0s - loss: 4.2953 - accuracy: 0.0320\n",
      "Epoch 00002: val_accuracy improved from 0.02960 to 0.03790, saving model to VGG_Adam_Plain.hdf5\n",
      "391/391 [==============================] - 22s 55ms/step - loss: 4.2952 - accuracy: 0.0321 - val_loss: 4.2204 - val_accuracy: 0.0379\n",
      "Epoch 3/50\n",
      "390/391 [============================>.] - ETA: 0s - loss: 4.1496 - accuracy: 0.0429\n",
      "Epoch 00003: val_accuracy improved from 0.03790 to 0.05440, saving model to VGG_Adam_Plain.hdf5\n",
      "391/391 [==============================] - 22s 55ms/step - loss: 4.1494 - accuracy: 0.0430 - val_loss: 4.0385 - val_accuracy: 0.0544\n",
      "Epoch 4/50\n",
      "390/391 [============================>.] - ETA: 0s - loss: 3.9923 - accuracy: 0.0600\n",
      "Epoch 00004: val_accuracy improved from 0.05440 to 0.06830, saving model to VGG_Adam_Plain.hdf5\n",
      "391/391 [==============================] - 22s 56ms/step - loss: 3.9923 - accuracy: 0.0600 - val_loss: 3.9180 - val_accuracy: 0.0683\n",
      "Epoch 5/50\n",
      "390/391 [============================>.] - ETA: 0s - loss: 3.8381 - accuracy: 0.0837\n",
      "Epoch 00005: val_accuracy improved from 0.06830 to 0.09380, saving model to VGG_Adam_Plain.hdf5\n",
      "391/391 [==============================] - 22s 55ms/step - loss: 3.8379 - accuracy: 0.0837 - val_loss: 3.8081 - val_accuracy: 0.0938\n",
      "Epoch 6/50\n",
      "390/391 [============================>.] - ETA: 0s - loss: 3.6676 - accuracy: 0.1068\n",
      "Epoch 00006: val_accuracy improved from 0.09380 to 0.11130, saving model to VGG_Adam_Plain.hdf5\n",
      "391/391 [==============================] - 22s 55ms/step - loss: 3.6676 - accuracy: 0.1069 - val_loss: 3.7156 - val_accuracy: 0.1113\n",
      "Epoch 7/50\n",
      "390/391 [============================>.] - ETA: 0s - loss: 3.5090 - accuracy: 0.1300\n",
      "Epoch 00007: val_accuracy improved from 0.11130 to 0.14060, saving model to VGG_Adam_Plain.hdf5\n",
      "391/391 [==============================] - 22s 55ms/step - loss: 3.5095 - accuracy: 0.1299 - val_loss: 3.4757 - val_accuracy: 0.1406\n",
      "Epoch 8/50\n",
      "390/391 [============================>.] - ETA: 0s - loss: 3.3505 - accuracy: 0.1568\n",
      "Epoch 00008: val_accuracy improved from 0.14060 to 0.16500, saving model to VGG_Adam_Plain.hdf5\n",
      "391/391 [==============================] - 22s 55ms/step - loss: 3.3501 - accuracy: 0.1569 - val_loss: 3.2932 - val_accuracy: 0.1650\n",
      "Epoch 9/50\n",
      "390/391 [============================>.] - ETA: 0s - loss: 3.5482 - accuracy: 0.1876\n",
      "Epoch 00009: val_accuracy improved from 0.16500 to 0.17450, saving model to VGG_Adam_Plain.hdf5\n",
      "391/391 [==============================] - 22s 55ms/step - loss: 3.5477 - accuracy: 0.1876 - val_loss: 3.2948 - val_accuracy: 0.1745\n",
      "Epoch 10/50\n",
      "390/391 [============================>.] - ETA: 0s - loss: 3.0059 - accuracy: 0.2191\n",
      "Epoch 00010: val_accuracy improved from 0.17450 to 0.22450, saving model to VGG_Adam_Plain.hdf5\n",
      "391/391 [==============================] - 22s 55ms/step - loss: 3.0055 - accuracy: 0.2191 - val_loss: 3.0071 - val_accuracy: 0.2245\n",
      "Epoch 11/50\n",
      "390/391 [============================>.] - ETA: 0s - loss: 2.8413 - accuracy: 0.2519\n",
      "Epoch 00011: val_accuracy improved from 0.22450 to 0.24730, saving model to VGG_Adam_Plain.hdf5\n",
      "391/391 [==============================] - 22s 55ms/step - loss: 2.8411 - accuracy: 0.2520 - val_loss: 2.8811 - val_accuracy: 0.2473\n",
      "Epoch 12/50\n",
      "390/391 [============================>.] - ETA: 0s - loss: 2.6596 - accuracy: 0.2869\n",
      "Epoch 00012: val_accuracy improved from 0.24730 to 0.26990, saving model to VGG_Adam_Plain.hdf5\n",
      "391/391 [==============================] - 22s 55ms/step - loss: 2.6599 - accuracy: 0.2867 - val_loss: 2.8028 - val_accuracy: 0.2699\n",
      "Epoch 13/50\n",
      "390/391 [============================>.] - ETA: 0s - loss: 2.4805 - accuracy: 0.3274\n",
      "Epoch 00013: val_accuracy improved from 0.26990 to 0.29440, saving model to VGG_Adam_Plain.hdf5\n",
      "391/391 [==============================] - 22s 55ms/step - loss: 2.4800 - accuracy: 0.3276 - val_loss: 2.6991 - val_accuracy: 0.2944\n",
      "Epoch 14/50\n",
      "390/391 [============================>.] - ETA: 0s - loss: 2.2809 - accuracy: 0.3696\n",
      "Epoch 00014: val_accuracy improved from 0.29440 to 0.32100, saving model to VGG_Adam_Plain.hdf5\n",
      "391/391 [==============================] - 22s 55ms/step - loss: 2.2810 - accuracy: 0.3697 - val_loss: 2.6012 - val_accuracy: 0.3210\n",
      "Epoch 15/50\n",
      "390/391 [============================>.] - ETA: 0s - loss: 2.0979 - accuracy: 0.4100\n",
      "Epoch 00015: val_accuracy improved from 0.32100 to 0.34630, saving model to VGG_Adam_Plain.hdf5\n",
      "391/391 [==============================] - 22s 56ms/step - loss: 2.0977 - accuracy: 0.4100 - val_loss: 2.5323 - val_accuracy: 0.3463\n",
      "Epoch 16/50\n",
      "390/391 [============================>.] - ETA: 0s - loss: 1.9162 - accuracy: 0.4511\n",
      "Epoch 00016: val_accuracy improved from 0.34630 to 0.36010, saving model to VGG_Adam_Plain.hdf5\n",
      "391/391 [==============================] - 22s 55ms/step - loss: 1.9164 - accuracy: 0.4511 - val_loss: 2.5336 - val_accuracy: 0.3601\n",
      "Epoch 17/50\n",
      "390/391 [============================>.] - ETA: 0s - loss: 1.7292 - accuracy: 0.4970\n",
      "Epoch 00017: val_accuracy improved from 0.36010 to 0.37500, saving model to VGG_Adam_Plain.hdf5\n",
      "391/391 [==============================] - 21s 55ms/step - loss: 1.7292 - accuracy: 0.4971 - val_loss: 2.5950 - val_accuracy: 0.3750\n",
      "Epoch 18/50\n",
      "390/391 [============================>.] - ETA: 0s - loss: 1.5776 - accuracy: 0.5364\n",
      "Epoch 00018: val_accuracy improved from 0.37500 to 0.38450, saving model to VGG_Adam_Plain.hdf5\n",
      "391/391 [==============================] - 22s 55ms/step - loss: 1.5772 - accuracy: 0.5365 - val_loss: 2.5715 - val_accuracy: 0.3845\n",
      "Epoch 19/50\n",
      "390/391 [============================>.] - ETA: 0s - loss: 1.4230 - accuracy: 0.5774\n",
      "Epoch 00019: val_accuracy improved from 0.38450 to 0.38510, saving model to VGG_Adam_Plain.hdf5\n",
      "391/391 [==============================] - 22s 55ms/step - loss: 1.4228 - accuracy: 0.5773 - val_loss: 2.7040 - val_accuracy: 0.3851\n",
      "Epoch 20/50\n",
      "390/391 [============================>.] - ETA: 0s - loss: 1.6856 - accuracy: 0.6181\n",
      "Epoch 00020: val_accuracy improved from 0.38510 to 0.39440, saving model to VGG_Adam_Plain.hdf5\n",
      "391/391 [==============================] - 22s 55ms/step - loss: 1.6850 - accuracy: 0.6180 - val_loss: 2.7356 - val_accuracy: 0.3944\n",
      "Epoch 21/50\n",
      "390/391 [============================>.] - ETA: 0s - loss: 16.9630 - accuracy: 0.6474\n",
      "Epoch 00021: val_accuracy improved from 0.39440 to 0.40550, saving model to VGG_Adam_Plain.hdf5\n",
      "391/391 [==============================] - 22s 55ms/step - loss: 16.9375 - accuracy: 0.6474 - val_loss: 2.7655 - val_accuracy: 0.4055\n",
      "Epoch 22/50\n",
      "390/391 [============================>.] - ETA: 0s - loss: 16.7793 - accuracy: 0.6821\n",
      "Epoch 00022: val_accuracy did not improve from 0.40550\n",
      "391/391 [==============================] - 21s 54ms/step - loss: 16.7544 - accuracy: 0.6821 - val_loss: 2.8715 - val_accuracy: 0.4018\n",
      "Epoch 23/50\n",
      "390/391 [============================>.] - ETA: 0s - loss: 0.9711 - accuracy: 0.7101\n",
      "Epoch 00023: val_accuracy did not improve from 0.40550\n",
      "391/391 [==============================] - 21s 55ms/step - loss: 0.9715 - accuracy: 0.7100 - val_loss: 2.8298 - val_accuracy: 0.4055\n",
      "Epoch 24/50\n",
      "390/391 [============================>.] - ETA: 0s - loss: 0.8759 - accuracy: 0.7328\n",
      "Epoch 00024: val_accuracy improved from 0.40550 to 0.40830, saving model to VGG_Adam_Plain.hdf5\n",
      "391/391 [==============================] - 22s 55ms/step - loss: 0.8760 - accuracy: 0.7329 - val_loss: 3.0583 - val_accuracy: 0.4083\n",
      "Epoch 25/50\n",
      "390/391 [============================>.] - ETA: 0s - loss: 0.7896 - accuracy: 0.7588\n",
      "Epoch 00025: val_accuracy improved from 0.40830 to 0.40850, saving model to VGG_Adam_Plain.hdf5\n",
      "391/391 [==============================] - 22s 55ms/step - loss: 0.7897 - accuracy: 0.7588 - val_loss: 3.1230 - val_accuracy: 0.4085\n",
      "Epoch 26/50\n",
      "390/391 [============================>.] - ETA: 0s - loss: 0.7355 - accuracy: 0.7739\n",
      "Epoch 00026: val_accuracy improved from 0.40850 to 0.41440, saving model to VGG_Adam_Plain.hdf5\n",
      "391/391 [==============================] - 22s 55ms/step - loss: 0.7360 - accuracy: 0.7737 - val_loss: 3.2580 - val_accuracy: 0.4144\n",
      "Epoch 27/50\n",
      "390/391 [============================>.] - ETA: 0s - loss: 0.6824 - accuracy: 0.7926\n",
      "Epoch 00027: val_accuracy improved from 0.41440 to 0.41720, saving model to VGG_Adam_Plain.hdf5\n",
      "391/391 [==============================] - 22s 55ms/step - loss: 0.6826 - accuracy: 0.7926 - val_loss: 3.2770 - val_accuracy: 0.4172\n",
      "Epoch 28/50\n",
      "390/391 [============================>.] - ETA: 0s - loss: 0.6453 - accuracy: 0.8053\n",
      "Epoch 00028: val_accuracy did not improve from 0.41720\n",
      "391/391 [==============================] - 21s 55ms/step - loss: 0.6453 - accuracy: 0.8053 - val_loss: 3.1615 - val_accuracy: 0.4160\n",
      "Epoch 29/50\n",
      "390/391 [============================>.] - ETA: 0s - loss: 0.5961 - accuracy: 0.8202\n",
      "Epoch 00029: val_accuracy did not improve from 0.41720\n",
      "391/391 [==============================] - 21s 55ms/step - loss: 0.5963 - accuracy: 0.8202 - val_loss: 3.4768 - val_accuracy: 0.4107\n",
      "Epoch 30/50\n",
      "390/391 [============================>.] - ETA: 0s - loss: 0.5611 - accuracy: 0.8300\n",
      "Epoch 00030: val_accuracy did not improve from 0.41720\n",
      "391/391 [==============================] - 21s 55ms/step - loss: 0.5613 - accuracy: 0.8300 - val_loss: 3.5144 - val_accuracy: 0.4166\n",
      "Epoch 31/50\n",
      "390/391 [============================>.] - ETA: 0s - loss: 0.5410 - accuracy: 0.8369\n",
      "Epoch 00031: val_accuracy did not improve from 0.41720\n",
      "391/391 [==============================] - 21s 55ms/step - loss: 0.5410 - accuracy: 0.8369 - val_loss: 3.5320 - val_accuracy: 0.4149\n",
      "Epoch 32/50\n",
      "390/391 [============================>.] - ETA: 0s - loss: 0.5690 - accuracy: 0.8465\n",
      "Epoch 00032: val_accuracy did not improve from 0.41720\n",
      "391/391 [==============================] - 21s 54ms/step - loss: 0.5686 - accuracy: 0.8466 - val_loss: 3.6750 - val_accuracy: 0.4163\n",
      "Epoch 33/50\n",
      "390/391 [============================>.] - ETA: 0s - loss: 0.5046 - accuracy: 0.8507\n",
      "Epoch 00033: val_accuracy improved from 0.41720 to 0.41820, saving model to VGG_Adam_Plain.hdf5\n",
      "391/391 [==============================] - 22s 55ms/step - loss: 0.5044 - accuracy: 0.8508 - val_loss: 3.6556 - val_accuracy: 0.4182\n",
      "Epoch 34/50\n",
      "390/391 [============================>.] - ETA: 0s - loss: 6.4843 - accuracy: 0.8609\n",
      "Epoch 00034: val_accuracy did not improve from 0.41820\n",
      "391/391 [==============================] - 21s 55ms/step - loss: 6.4751 - accuracy: 0.8608 - val_loss: 3.7022 - val_accuracy: 0.4135\n",
      "Epoch 35/50\n",
      "390/391 [============================>.] - ETA: 0s - loss: 0.5018 - accuracy: 0.8648\n",
      "Epoch 00035: val_accuracy improved from 0.41820 to 0.41970, saving model to VGG_Adam_Plain.hdf5\n",
      "391/391 [==============================] - 22s 55ms/step - loss: 0.5016 - accuracy: 0.8648 - val_loss: 3.6869 - val_accuracy: 0.4197\n",
      "Epoch 36/50\n",
      "390/391 [============================>.] - ETA: 0s - loss: 0.4634 - accuracy: 0.8692\n",
      "Epoch 00036: val_accuracy improved from 0.41970 to 0.42020, saving model to VGG_Adam_Plain.hdf5\n",
      "391/391 [==============================] - 22s 55ms/step - loss: 0.4634 - accuracy: 0.8692 - val_loss: 3.9621 - val_accuracy: 0.4202\n",
      "Epoch 37/50\n",
      "390/391 [============================>.] - ETA: 0s - loss: 0.4615 - accuracy: 0.8743\n",
      "Epoch 00037: val_accuracy did not improve from 0.42020\n",
      "391/391 [==============================] - 21s 55ms/step - loss: 0.4615 - accuracy: 0.8743 - val_loss: 3.6536 - val_accuracy: 0.4167\n",
      "Epoch 38/50\n",
      "390/391 [============================>.] - ETA: 0s - loss: 0.4081 - accuracy: 0.8802\n",
      "Epoch 00038: val_accuracy did not improve from 0.42020\n",
      "391/391 [==============================] - 21s 55ms/step - loss: 0.4082 - accuracy: 0.8802 - val_loss: 3.9622 - val_accuracy: 0.4170\n",
      "Epoch 39/50\n",
      "390/391 [============================>.] - ETA: 0s - loss: 0.6677 - accuracy: 0.8787\n",
      "Epoch 00039: val_accuracy did not improve from 0.42020\n",
      "391/391 [==============================] - 22s 55ms/step - loss: 0.6673 - accuracy: 0.8787 - val_loss: 3.9106 - val_accuracy: 0.4064\n",
      "Epoch 40/50\n",
      "390/391 [============================>.] - ETA: 0s - loss: 0.4016 - accuracy: 0.8861\n",
      "Epoch 00040: val_accuracy did not improve from 0.42020\n",
      "391/391 [==============================] - 22s 55ms/step - loss: 0.4017 - accuracy: 0.8860 - val_loss: 3.8462 - val_accuracy: 0.4190\n",
      "Epoch 41/50\n",
      "390/391 [============================>.] - ETA: 0s - loss: 0.3766 - accuracy: 0.8899\n",
      "Epoch 00041: val_accuracy did not improve from 0.42020\n",
      "391/391 [==============================] - 22s 55ms/step - loss: 0.3764 - accuracy: 0.8900 - val_loss: 4.1601 - val_accuracy: 0.4074\n",
      "Epoch 42/50\n",
      "390/391 [============================>.] - ETA: 0s - loss: 0.3941 - accuracy: 0.8953\n",
      "Epoch 00042: val_accuracy improved from 0.42020 to 0.42170, saving model to VGG_Adam_Plain.hdf5\n",
      "391/391 [==============================] - 22s 56ms/step - loss: 0.3943 - accuracy: 0.8953 - val_loss: 4.0772 - val_accuracy: 0.4217\n",
      "Epoch 43/50\n",
      "390/391 [============================>.] - ETA: 0s - loss: 0.3965 - accuracy: 0.8923\n",
      "Epoch 00043: val_accuracy did not improve from 0.42170\n",
      "391/391 [==============================] - 21s 55ms/step - loss: 0.3962 - accuracy: 0.8923 - val_loss: 3.8791 - val_accuracy: 0.4158\n",
      "Epoch 44/50\n",
      "390/391 [============================>.] - ETA: 0s - loss: 0.3565 - accuracy: 0.8979\n",
      "Epoch 00044: val_accuracy did not improve from 0.42170\n",
      "391/391 [==============================] - 22s 55ms/step - loss: 0.3563 - accuracy: 0.8978 - val_loss: 4.0770 - val_accuracy: 0.4068\n",
      "Epoch 45/50\n",
      "390/391 [============================>.] - ETA: 0s - loss: 0.3447 - accuracy: 0.9004\n",
      "Epoch 00045: val_accuracy did not improve from 0.42170\n",
      "391/391 [==============================] - 22s 55ms/step - loss: 0.3444 - accuracy: 0.9005 - val_loss: 4.0413 - val_accuracy: 0.4195\n",
      "Epoch 46/50\n",
      "390/391 [============================>.] - ETA: 0s - loss: 0.3325 - accuracy: 0.9035\n",
      "Epoch 00046: val_accuracy did not improve from 0.42170\n",
      "391/391 [==============================] - 22s 55ms/step - loss: 0.3323 - accuracy: 0.9036 - val_loss: 4.1596 - val_accuracy: 0.4168\n",
      "Epoch 47/50\n",
      "390/391 [============================>.] - ETA: 0s - loss: 0.3193 - accuracy: 0.9071\n",
      "Epoch 00047: val_accuracy did not improve from 0.42170\n",
      "391/391 [==============================] - 21s 55ms/step - loss: 0.3194 - accuracy: 0.9070 - val_loss: 4.2583 - val_accuracy: 0.4185\n",
      "Epoch 48/50\n",
      "390/391 [============================>.] - ETA: 0s - loss: 0.3296 - accuracy: 0.9073\n",
      "Epoch 00048: val_accuracy did not improve from 0.42170\n",
      "391/391 [==============================] - 21s 55ms/step - loss: 0.3300 - accuracy: 0.9072 - val_loss: 4.2263 - val_accuracy: 0.4208\n",
      "Epoch 49/50\n",
      "390/391 [============================>.] - ETA: 0s - loss: 0.3363 - accuracy: 0.9074\n",
      "Epoch 00049: val_accuracy did not improve from 0.42170\n",
      "391/391 [==============================] - 21s 55ms/step - loss: 0.3363 - accuracy: 0.9074 - val_loss: 4.1112 - val_accuracy: 0.4210\n",
      "Epoch 50/50\n",
      "390/391 [============================>.] - ETA: 0s - loss: 0.3160 - accuracy: 0.9117\n",
      "Epoch 00050: val_accuracy did not improve from 0.42170\n",
      "391/391 [==============================] - 21s 55ms/step - loss: 0.3165 - accuracy: 0.9116 - val_loss: 4.4581 - val_accuracy: 0.4108\n"
     ]
    }
   ],
   "source": [
    "history = model.fit(x_train, y_train,\n",
    "          batch_size=batch_size,\n",
    "          epochs=epochs,\n",
    "          verbose=1,\n",
    "          validation_data=(x_test, y_test),callbacks=[early,checkpoint])\n",
    "# history=model.fit_generator(datagen.flow(x_train, y_train, batch_size=128),\n",
    "#                     steps_per_epoch = len(x_train) / 128, epochs=100, validation_data=(x_test, y_test))"
   ]
  },
  {
   "cell_type": "code",
   "execution_count": null,
   "metadata": {
    "colab": {
     "base_uri": "https://localhost:8080/",
     "height": 68
    },
    "id": "hKbldP9lJfI4",
    "outputId": "47d325b1-9e63-4eef-b7e7-7b9dfb42b9af"
   },
   "outputs": [
    {
     "name": "stdout",
     "output_type": "stream",
     "text": [
      "Prec: 0.4557957523455909\n",
      "Recall: 0.4108\n",
      "Accuracy: 0.4108\n"
     ]
    }
   ],
   "source": [
    "\n",
    "# Test the model\n",
    "y_true = y_test.argmax(-1)\n",
    "y_pred = model.predict(x_test).argmax(-1)\n",
    "# generate confusion matrix\n",
    "from sklearn.metrics import confusion_matrix, precision_score, recall_score, accuracy_score\n",
    "confusion_matrix(y_true, y_pred)\n",
    "# calculate prec, recall, accuracy\n",
    "print(\"Prec: \"+ str(precision_score(y_true, y_pred, average='weighted')))\n",
    "print(\"Recall: \"+ str(recall_score(y_true, y_pred, average='weighted')))\n",
    "print(\"Accuracy: \" + str(accuracy_score(y_true, y_pred)))"
   ]
  },
  {
   "cell_type": "code",
   "execution_count": null,
   "metadata": {
    "colab": {
     "base_uri": "https://localhost:8080/",
     "height": 295
    },
    "id": "pqfbpy9AJfMZ",
    "outputId": "991fd400-7aef-44fe-db6f-e6e1eb83f5d8"
   },
   "outputs": [
    {
     "data": {
      "image/png": "[encoded data removed]",
      "text/plain": [
       "<Figure size 432x288 with 1 Axes>"
      ]
     },
     "metadata": {
      "needs_background": "light",
      "tags": []
     },
     "output_type": "display_data"
    }
   ],
   "source": [
    "import matplotlib.pyplot as plt\n",
    "plt.plot(history.history[\"accuracy\"])\n",
    "plt.plot(history.history['val_accuracy'])\n",
    "plt.plot(history.history['loss'])\n",
    "plt.plot(history.history['val_loss'])\n",
    "plt.title(\"model accuracy\")\n",
    "plt.ylabel(\"Accuracy\")\n",
    "plt.xlabel(\"Epoch\")\n",
    "plt.legend([\"Accuracy\",\"Validation Accuracy\",\"loss\",\"Validation Loss\"])\n",
    "plt.show()"
   ]
  },
  {
   "cell_type": "markdown",
   "metadata": {
    "id": "wEt6YxfvJfQY"
   },
   "source": [
    "# cell to load best weights"
   ]
  },
  {
   "cell_type": "code",
   "execution_count": null,
   "metadata": {},
   "outputs": [],
   "source": [
    "#importing the required packages and libraries.\n",
    "import keras\n",
    "from keras.models import Sequential\n",
    "from keras.layers import Dense, Flatten\n",
    "from keras.layers import Conv2D, MaxPooling2D\n",
    "from keras.datasets import cifar100\n",
    "from keras.layers import LeakyReLU\n",
    "from keras import backend as K\n",
    "from keras.layers import ELU\n",
    "from keras.preprocessing.image import ImageDataGenerator\n",
    "\n",
    "(x_train, y_train), (x_test, y_test) = cifar100.load_data()\n",
    "\n",
    "x_train = x_train.astype('float32') \n",
    "x_test = x_test.astype('float32')\n",
    "x_train /= 255 #normalising the data.\n",
    "x_test /= 255 #normalising the data.\n",
    "print('x_train shape:', x_train.shape)\n",
    "print(x_train.shape[0], 'train samples')\n",
    "print(x_test.shape[0], 'test samples')\n",
    "\n",
    "# convert class vectors to binary class matrices\n",
    "y_train = keras.utils.to_categorical(y_train, num_classes)\n",
    "y_test = keras.utils.to_categorical(y_test, num_classes)\n",
    "\n",
    "#building the sequential model\n",
    "\n",
    "model = Sequential()\n",
    "model.add(Conv2D(input_shape = input_shape,filters=64,kernel_size=(3,3),padding=\"same\"))\n",
    "model.add(ELU(alpha=elu_alpha))\n",
    "model.add(Conv2D(filters=64,kernel_size=(3,3),padding=\"same\"))\n",
    "model.add(ELU(alpha=elu_alpha))\n",
    "model.add(MaxPooling2D(pool_size=(2,2),strides=(2,2)))\n",
    "model.add(Conv2D(filters=128, kernel_size=(3,3), padding=\"same\"))\n",
    "model.add(ELU(alpha=elu_alpha))\n",
    "model.add(Conv2D(filters=128, kernel_size=(3,3), padding=\"same\"))\n",
    "model.add(ELU(alpha=elu_alpha))\n",
    "model.add(MaxPooling2D(pool_size=(2,2),strides=(2,2)))\n",
    "model.add(Conv2D(filters=256, kernel_size=(3,3), padding=\"same\"))\n",
    "model.add(ELU(alpha=elu_alpha))\n",
    "model.add(Conv2D(filters=256, kernel_size=(3,3), padding=\"same\"))\n",
    "model.add(ELU(alpha=elu_alpha))\n",
    "model.add(Conv2D(filters=256, kernel_size=(3,3), padding=\"same\"))\n",
    "model.add(ELU(alpha=elu_alpha))\n",
    "model.add(MaxPooling2D(pool_size=(2,2),strides=(2,2)))\n",
    "model.add(Conv2D(filters=512, kernel_size=(3,3), padding=\"same\"))\n",
    "model.add(ELU(alpha=elu_alpha))\n",
    "model.add(Conv2D(filters=512, kernel_size=(3,3), padding=\"same\"))\n",
    "model.add(ELU(alpha=elu_alpha))\n",
    "model.add(Conv2D(filters=512, kernel_size=(3,3), padding=\"same\"))\n",
    "model.add(ELU(alpha=elu_alpha))\n",
    "model.add(MaxPooling2D(pool_size=(2,2),strides=(2,2)))\n",
    "model.add(Conv2D(filters=512, kernel_size=(3,3), padding=\"same\"))\n",
    "model.add(ELU(alpha=elu_alpha))\n",
    "model.add(Conv2D(filters=512, kernel_size=(3,3), padding=\"same\"))\n",
    "model.add(ELU(alpha=elu_alpha))\n",
    "model.add(Conv2D(filters=512, kernel_size=(3,3), padding=\"same\"))\n",
    "model.add(ELU(alpha=elu_alpha))\n",
    "model.add(MaxPooling2D(pool_size=(2,2),strides=(2,2)))\n",
    "model.add(ELU(alpha=elu_alpha))\n",
    "model.add(Flatten())\n",
    "model.add(Dense(units=2048))\n",
    "model.add(ELU(alpha=elu_alpha))\n",
    "model.add(Dense(units=2048))\n",
    "model.add(ELU(alpha=elu_alpha))\n",
    "model.add(Dense(units=100, activation=\"softmax\"))\n",
    "\n",
    "model.load_weights('../weights/VGG16_Adam_With_NoRegularization.hdf5')\n",
    "\n",
    "y_true = y_test.argmax(-1)\n",
    "y_pred = model.predict(x_test).argmax(-1)\n",
    "# generate confusion matrix\n",
    "from sklearn.metrics import confusion_matrix, precision_score, recall_score, accuracy_score\n",
    "confusion_matrix(y_true, y_pred)\n",
    "# calculate prec, recall, accuracy\n",
    "print(\"Prec: \"+ str(precision_score(y_true, y_pred, average='weighted')))\n",
    "print(\"Recall: \"+ str(recall_score(y_true, y_pred, average='weighted')))\n",
    "print(\"Accuracy: \" + str(accuracy_score(y_true, y_pred)))"
   ]
  }
 ],
 "metadata": {
  "accelerator": "GPU",
  "colab": {
   "collapsed_sections": [],
   "name": "VGG_Adam_plain.ipynb",
   "provenance": []
  },
  "kernelspec": {
   "display_name": "Python 3",
   "language": "python",
   "name": "python3"
  },
  "language_info": {
   "codemirror_mode": {
    "name": "ipython",
    "version": 3
   },
   "file_extension": ".py",
   "mimetype": "text/x-python",
   "name": "python",
   "nbconvert_exporter": "python",
   "pygments_lexer": "ipython3",
   "version": "3.7.4"
  }
 },
 "nbformat": 4,
 "nbformat_minor": 1
}
