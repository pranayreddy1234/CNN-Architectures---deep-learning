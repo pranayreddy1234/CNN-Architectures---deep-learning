{
 "cells": [
  {
   "cell_type": "code",
   "execution_count": null,
   "metadata": {
    "id": "ZrV4FeN_bw46"
   },
   "outputs": [],
   "source": [
    "#importing the required packages and libraries.\n",
    "import keras\n",
    "from keras.models import Sequential\n",
    "from keras.layers import Dense, Flatten\n",
    "from keras.layers import Conv2D, MaxPooling2D\n",
    "from keras.datasets import cifar100\n",
    "from keras.layers import LeakyReLU\n",
    "from keras import backend as K\n",
    "from keras.preprocessing.image import ImageDataGenerator\n",
    "from tensorflow import Tensor\n",
    "from tensorflow.keras.layers import Input, Conv2D, ReLU,LeakyReLU, BatchNormalization,\\\n",
    "                                    Add, AveragePooling2D, Flatten, Dense, Dropout,ZeroPadding2D,MaxPool2D,concatenate\n",
    "from tensorflow.keras.models import Model\n",
    "from keras.initializers import glorot_uniform\n",
    "from tensorflow.keras.optimizers import Adam,SGD"
   ]
  },
  {
   "cell_type": "code",
   "execution_count": null,
   "metadata": {
    "id": "-MaP09iFbx9n"
   },
   "outputs": [],
   "source": [
    "(x_train, y_train), (x_test, y_test) = cifar100.load_data()"
   ]
  },
  {
   "cell_type": "code",
   "execution_count": null,
   "metadata": {
    "colab": {
     "base_uri": "https://localhost:8080/",
     "height": 34
    },
    "id": "Y7tJylZUbyBD",
    "outputId": "70b4e5c6-2e2a-4ed9-a83d-6d1e230caf57"
   },
   "outputs": [
    {
     "data": {
      "text/plain": [
       "(10000, 1)"
      ]
     },
     "execution_count": 15,
     "metadata": {
      "tags": []
     },
     "output_type": "execute_result"
    }
   ],
   "source": [
    "y_test.shape"
   ]
  },
  {
   "cell_type": "code",
   "execution_count": null,
   "metadata": {
    "id": "zm_20HKPbyFl"
   },
   "outputs": [],
   "source": [
    "batch_size = 1000 #batch size as 128\n",
    "num_classes = 100 # we got 100 classes dataset\n",
    "#epochs = 100 # iterations over dataset"
   ]
  },
  {
   "cell_type": "code",
   "execution_count": null,
   "metadata": {
    "id": "ZM7AB93QbyIo"
   },
   "outputs": [],
   "source": [
    "img_rows, img_cols = 32, 32"
   ]
  },
  {
   "cell_type": "code",
   "execution_count": null,
   "metadata": {
    "colab": {
     "base_uri": "https://localhost:8080/",
     "height": 68
    },
    "id": "4Nf4a9fcbyLb",
    "outputId": "8bdde41e-eaba-4889-cd25-0bd8386394a7"
   },
   "outputs": [
    {
     "name": "stdout",
     "output_type": "stream",
     "text": [
      "x_train shape: (50000, 32, 32, 3)\n",
      "50000 train samples\n",
      "10000 test samples\n"
     ]
    }
   ],
   "source": [
    "#Channels first means that in a specific tensor (consider a photo), you would have (Number_Of_Channels, Height , Width).\n",
    "# we convert channel first to channel last.\n",
    "if K.image_data_format() == 'channels_first':\n",
    "    x_train = x_train.reshape(x_train.shape[0], 3, img_rows, img_cols)\n",
    "    x_test = x_test.reshape(x_test.shape[0], 3, img_rows, img_cols)\n",
    "    input_shape = (1, img_rows, img_cols)\n",
    "else:\n",
    "    x_train = x_train.reshape(x_train.shape[0], img_rows, img_cols, 3)\n",
    "    x_test = x_test.reshape(x_test.shape[0], img_rows, img_cols, 3)\n",
    "    input_shape = (img_rows, img_cols, 3)\n",
    "\n",
    "x_train = x_train.astype('float32') \n",
    "x_test = x_test.astype('float32')\n",
    "x_train /= 255 #normalising the data.\n",
    "x_test /= 255 #normalising the data.\n",
    "print('x_train shape:', x_train.shape)\n",
    "print(x_train.shape[0], 'train samples')\n",
    "print(x_test.shape[0], 'test samples')\n",
    "\n",
    "# convert class vectors to binary class matrices\n",
    "y_train = keras.utils.to_categorical(y_train, num_classes)\n",
    "y_test = keras.utils.to_categorical(y_test, num_classes)"
   ]
  },
  {
   "cell_type": "code",
   "execution_count": null,
   "metadata": {
    "colab": {
     "base_uri": "https://localhost:8080/",
     "height": 34
    },
    "id": "vVtMUUNiklRz",
    "outputId": "411f38de-fefb-4ae0-c7e7-8470b7654a19"
   },
   "outputs": [
    {
     "data": {
      "text/plain": [
       "(10000, 100)"
      ]
     },
     "execution_count": 19,
     "metadata": {
      "tags": []
     },
     "output_type": "execute_result"
    }
   ],
   "source": [
    "y_test.shape"
   ]
  },
  {
   "cell_type": "code",
   "execution_count": null,
   "metadata": {
    "id": "lskrnDFUi_yf"
   },
   "outputs": [],
   "source": [
    "initializer = keras.initializers.HeNormal()\n",
    "#layer = tf.keras.layers.Dense(3, kernel_initializer=initializer)"
   ]
  },
  {
   "cell_type": "code",
   "execution_count": null,
   "metadata": {
    "colab": {
     "base_uri": "https://localhost:8080/",
     "height": 901
    },
    "id": "H1EO1L3DbyOb",
    "outputId": "8483d4c5-37d2-4844-bdd1-d36ec3d2cfc5"
   },
   "outputs": [
    {
     "name": "stdout",
     "output_type": "stream",
     "text": [
      "Model: \"sequential_1\"\n",
      "_________________________________________________________________\n",
      "Layer (type)                 Output Shape              Param #   \n",
      "=================================================================\n",
      "conv2d_13 (Conv2D)           (None, 32, 32, 64)        1792      \n",
      "_________________________________________________________________\n",
      "conv2d_14 (Conv2D)           (None, 32, 32, 64)        36928     \n",
      "_________________________________________________________________\n",
      "max_pooling2d_5 (MaxPooling2 (None, 16, 16, 64)        0         \n",
      "_________________________________________________________________\n",
      "conv2d_15 (Conv2D)           (None, 16, 16, 128)       73856     \n",
      "_________________________________________________________________\n",
      "conv2d_16 (Conv2D)           (None, 16, 16, 128)       147584    \n",
      "_________________________________________________________________\n",
      "max_pooling2d_6 (MaxPooling2 (None, 8, 8, 128)         0         \n",
      "_________________________________________________________________\n",
      "conv2d_17 (Conv2D)           (None, 8, 8, 256)         295168    \n",
      "_________________________________________________________________\n",
      "conv2d_18 (Conv2D)           (None, 8, 8, 256)         590080    \n",
      "_________________________________________________________________\n",
      "conv2d_19 (Conv2D)           (None, 8, 8, 256)         590080    \n",
      "_________________________________________________________________\n",
      "max_pooling2d_7 (MaxPooling2 (None, 4, 4, 256)         0         \n",
      "_________________________________________________________________\n",
      "conv2d_20 (Conv2D)           (None, 4, 4, 512)         1180160   \n",
      "_________________________________________________________________\n",
      "conv2d_21 (Conv2D)           (None, 4, 4, 512)         2359808   \n",
      "_________________________________________________________________\n",
      "conv2d_22 (Conv2D)           (None, 4, 4, 512)         2359808   \n",
      "_________________________________________________________________\n",
      "max_pooling2d_8 (MaxPooling2 (None, 2, 2, 512)         0         \n",
      "_________________________________________________________________\n",
      "conv2d_23 (Conv2D)           (None, 2, 2, 512)         2359808   \n",
      "_________________________________________________________________\n",
      "conv2d_24 (Conv2D)           (None, 2, 2, 512)         2359808   \n",
      "_________________________________________________________________\n",
      "conv2d_25 (Conv2D)           (None, 2, 2, 512)         2359808   \n",
      "_________________________________________________________________\n",
      "max_pooling2d_9 (MaxPooling2 (None, 1, 1, 512)         0         \n",
      "_________________________________________________________________\n",
      "flatten_1 (Flatten)          (None, 512)               0         \n",
      "_________________________________________________________________\n",
      "dense_3 (Dense)              (None, 4096)              2101248   \n",
      "_________________________________________________________________\n",
      "dense_4 (Dense)              (None, 4096)              16781312  \n",
      "_________________________________________________________________\n",
      "dense_5 (Dense)              (None, 100)               409700    \n",
      "=================================================================\n",
      "Total params: 34,006,948\n",
      "Trainable params: 34,006,948\n",
      "Non-trainable params: 0\n",
      "_________________________________________________________________\n"
     ]
    }
   ],
   "source": [
    "model = Sequential()\n",
    "model.add(Conv2D(input_shape=(32,32,3),filters=64,kernel_initializer=initializer,bias_initializer=keras.initializers.Constant(0.1),kernel_size=(3,3),padding=\"same\", activation=\"relu\"))\n",
    "model.add(Conv2D(filters=64,kernel_initializer=initializer,bias_initializer=keras.initializers.Constant(0.1),kernel_size=(3,3),padding=\"same\", activation=\"relu\"))\n",
    "model.add(MaxPooling2D(pool_size=(2,2),strides=(2,2)))\n",
    "model.add(Conv2D(filters=128,kernel_initializer=initializer,bias_initializer=keras.initializers.Constant(0.1),kernel_size=(3,3), padding=\"same\"))\n",
    "model.add(Conv2D(filters=128,kernel_initializer=initializer,bias_initializer=keras.initializers.Constant(0.1),kernel_size=(3,3), padding=\"same\", activation=\"relu\"))\n",
    "model.add(MaxPooling2D(pool_size=(2,2),strides=(2,2)))\n",
    "model.add(Conv2D(filters=256, kernel_size=(3,3), padding=\"same\", activation=\"relu\"))\n",
    "model.add(Conv2D(filters=256, kernel_size=(3,3), padding=\"same\",bias_initializer=keras.initializers.Constant(0.1), activation=\"relu\"))\n",
    "model.add(Conv2D(filters=256, kernel_size=(3,3), padding=\"same\", activation=\"relu\"))\n",
    "model.add(MaxPooling2D(pool_size=(2,2),strides=(2,2)))\n",
    "model.add(Conv2D(filters=512, kernel_size=(3,3),kernel_initializer=initializer,bias_initializer=keras.initializers.Constant(0.1),padding=\"same\", activation=\"relu\"))\n",
    "model.add(Conv2D(filters=512, kernel_size=(3,3),kernel_initializer=initializer,bias_initializer=keras.initializers.Constant(0.1),padding=\"same\", activation=\"relu\"))\n",
    "model.add(Conv2D(filters=512, kernel_size=(3,3),kernel_initializer=initializer,bias_initializer=keras.initializers.Constant(0.1), padding=\"same\", activation=\"relu\"))\n",
    "model.add(MaxPooling2D(pool_size=(2,2),strides=(2,2)))\n",
    "model.add(Conv2D(filters=512, kernel_size=(3,3),kernel_initializer=initializer, padding=\"same\",bias_initializer=keras.initializers.Constant(0.1), activation=\"relu\"))\n",
    "model.add(Conv2D(filters=512, kernel_size=(3,3), padding=\"same\", activation=\"relu\"))\n",
    "model.add(Conv2D(filters=512, kernel_size=(3,3),kernel_initializer=initializer,bias_initializer=keras.initializers.Constant(0.1), padding=\"same\", activation=\"relu\"))\n",
    "model.add(MaxPooling2D(pool_size=(2,2),strides=(2,2)))\n",
    "model.add(Flatten())\n",
    "model.add(Dense(units=4096,kernel_initializer=initializer,bias_initializer=keras.initializers.Constant(0.1),activation=\"relu\"))\n",
    "model.add(Dense(units=4096,kernel_initializer=initializer,bias_initializer=keras.initializers.Constant(0.1),activation=\"relu\"))\n",
    "model.add(Dense(num_classes,kernel_initializer=initializer,bias_initializer=keras.initializers.Constant(0.1), activation='softmax'))\n",
    "\n",
    "model.summary()"
   ]
  },
  {
   "cell_type": "code",
   "execution_count": null,
   "metadata": {
    "id": "kUtgma3x5sr6"
   },
   "outputs": [],
   "source": [
    "# # this is the augmentation configuration we will use for training\n",
    "# train_datagen = ImageDataGenerator(\n",
    "#         rescale=1./255,\n",
    "#         shear_range=0.2,\n",
    "#         zoom_range=0.2,\n",
    "#         horizontal_flip=True)\n",
    "\n",
    "# # this is the augmentation configuration we will use for testing:\n",
    "# # only rescaling\n",
    "# test_datagen = ImageDataGenerator(rescale=1./255)\n",
    "\n",
    "\n",
    "# set up image augmentation\n",
    "datagen = ImageDataGenerator(\n",
    "    rotation_range=15,\n",
    "    horizontal_flip=True,\n",
    "    width_shift_range=0.1,\n",
    "    height_shift_range=0.1\n",
    "    #zoom_range=0.3\n",
    "    )\n",
    "datagen.fit(x_train)"
   ]
  },
  {
   "cell_type": "code",
   "execution_count": null,
   "metadata": {
    "id": "poND7ratbyRI"
   },
   "outputs": [],
   "source": [
    "#initial_learning_rate = 0.1\n",
    "#lr_schedule = keras.optimizers.schedules.ExponentialDecay(\n",
    "     #initial_learning_rate,\n",
    "    #  decay_steps=1000,\n",
    "    #  decay_rate=0.96,\n",
    "    #  staircase=True)\n",
    "\n",
    "model.compile(loss=keras.losses.categorical_crossentropy,\n",
    "              optimizer=keras.optimizers.SGD(learning_rate = 0.001,clipvalue = 0.5, momentum = 0.9),\n",
    "              metrics=['accuracy'])"
   ]
  },
  {
   "cell_type": "code",
   "execution_count": null,
   "metadata": {
    "colab": {
     "base_uri": "https://localhost:8080/",
     "height": 1000
    },
    "id": "sdtggtv8byUI",
    "outputId": "bd4ae7a7-27e8-4cd3-84ee-47cbd0e1cfeb"
   },
   "outputs": [
    {
     "name": "stdout",
     "output_type": "stream",
     "text": [
      "WARNING:tensorflow:`period` argument is deprecated. Please use `save_freq` to specify the frequency in number of batches seen.\n",
      "WARNING:tensorflow:From <ipython-input-25-63a796fe9555>:14: Model.fit_generator (from tensorflow.python.keras.engine.training) is deprecated and will be removed in a future version.\n",
      "Instructions for updating:\n",
      "Please use Model.fit, which supports generators.\n",
      "Epoch 1/50\n",
      "391/390 [==============================] - ETA: 0s - loss: 4.3933 - accuracy: 0.0381\n",
      "Epoch 00001: val_accuracy improved from -inf to 0.06200, saving model to VGG_SGD_Plain.hdf5\n",
      "391/390 [==============================] - 29s 74ms/step - loss: 4.3933 - accuracy: 0.0381 - val_loss: 4.1469 - val_accuracy: 0.0620\n",
      "Epoch 2/50\n",
      "390/390 [============================>.] - ETA: 0s - loss: 3.9367 - accuracy: 0.0933\n",
      "Epoch 00002: val_accuracy improved from 0.06200 to 0.12920, saving model to VGG_SGD_Plain.hdf5\n",
      "391/390 [==============================] - 29s 73ms/step - loss: 3.9363 - accuracy: 0.0934 - val_loss: 3.7403 - val_accuracy: 0.1292\n",
      "Epoch 3/50\n",
      "391/390 [==============================] - ETA: 0s - loss: 3.6935 - accuracy: 0.1328\n",
      "Epoch 00003: val_accuracy improved from 0.12920 to 0.15530, saving model to VGG_SGD_Plain.hdf5\n",
      "391/390 [==============================] - 29s 73ms/step - loss: 3.6935 - accuracy: 0.1328 - val_loss: 3.5368 - val_accuracy: 0.1553\n",
      "Epoch 4/50\n",
      "391/390 [==============================] - ETA: 0s - loss: 3.4816 - accuracy: 0.1668\n",
      "Epoch 00004: val_accuracy improved from 0.15530 to 0.19650, saving model to VGG_SGD_Plain.hdf5\n",
      "391/390 [==============================] - 28s 72ms/step - loss: 3.4816 - accuracy: 0.1668 - val_loss: 3.3081 - val_accuracy: 0.1965\n",
      "Epoch 5/50\n",
      "391/390 [==============================] - ETA: 0s - loss: 3.3325 - accuracy: 0.1925\n",
      "Epoch 00005: val_accuracy improved from 0.19650 to 0.21890, saving model to VGG_SGD_Plain.hdf5\n",
      "391/390 [==============================] - 29s 74ms/step - loss: 3.3325 - accuracy: 0.1925 - val_loss: 3.2250 - val_accuracy: 0.2189\n",
      "Epoch 6/50\n",
      "391/390 [==============================] - ETA: 0s - loss: 3.2049 - accuracy: 0.2156\n",
      "Epoch 00006: val_accuracy improved from 0.21890 to 0.23940, saving model to VGG_SGD_Plain.hdf5\n",
      "391/390 [==============================] - 28s 73ms/step - loss: 3.2049 - accuracy: 0.2156 - val_loss: 3.0759 - val_accuracy: 0.2394\n",
      "Epoch 7/50\n",
      "391/390 [==============================] - ETA: 0s - loss: 3.1081 - accuracy: 0.2344\n",
      "Epoch 00007: val_accuracy improved from 0.23940 to 0.25560, saving model to VGG_SGD_Plain.hdf5\n",
      "391/390 [==============================] - 29s 73ms/step - loss: 3.1081 - accuracy: 0.2344 - val_loss: 3.0226 - val_accuracy: 0.2556\n",
      "Epoch 8/50\n",
      "391/390 [==============================] - ETA: 0s - loss: 3.0065 - accuracy: 0.2526\n",
      "Epoch 00008: val_accuracy improved from 0.25560 to 0.26080, saving model to VGG_SGD_Plain.hdf5\n",
      "391/390 [==============================] - 29s 73ms/step - loss: 3.0065 - accuracy: 0.2526 - val_loss: 2.9710 - val_accuracy: 0.2608\n",
      "Epoch 9/50\n",
      "391/390 [==============================] - ETA: 0s - loss: 2.9126 - accuracy: 0.2697\n",
      "Epoch 00009: val_accuracy improved from 0.26080 to 0.29270, saving model to VGG_SGD_Plain.hdf5\n",
      "391/390 [==============================] - 29s 73ms/step - loss: 2.9126 - accuracy: 0.2697 - val_loss: 2.8356 - val_accuracy: 0.2927\n",
      "Epoch 10/50\n",
      "391/390 [==============================] - ETA: 0s - loss: 2.8286 - accuracy: 0.2857\n",
      "Epoch 00010: val_accuracy improved from 0.29270 to 0.29580, saving model to VGG_SGD_Plain.hdf5\n",
      "391/390 [==============================] - 29s 74ms/step - loss: 2.8286 - accuracy: 0.2857 - val_loss: 2.8206 - val_accuracy: 0.2958\n",
      "Epoch 11/50\n",
      "391/390 [==============================] - ETA: 0s - loss: 2.7542 - accuracy: 0.3040\n",
      "Epoch 00011: val_accuracy improved from 0.29580 to 0.31720, saving model to VGG_SGD_Plain.hdf5\n",
      "391/390 [==============================] - 29s 73ms/step - loss: 2.7542 - accuracy: 0.3040 - val_loss: 2.7356 - val_accuracy: 0.3172\n",
      "Epoch 12/50\n",
      "391/390 [==============================] - ETA: 0s - loss: 2.6722 - accuracy: 0.3174\n",
      "Epoch 00012: val_accuracy did not improve from 0.31720\n",
      "391/390 [==============================] - 28s 72ms/step - loss: 2.6722 - accuracy: 0.3174 - val_loss: 2.7225 - val_accuracy: 0.3153\n",
      "Epoch 13/50\n",
      "391/390 [==============================] - ETA: 0s - loss: 2.6075 - accuracy: 0.3284\n",
      "Epoch 00013: val_accuracy improved from 0.31720 to 0.32900, saving model to VGG_SGD_Plain.hdf5\n",
      "391/390 [==============================] - 29s 74ms/step - loss: 2.6075 - accuracy: 0.3284 - val_loss: 2.6876 - val_accuracy: 0.3290\n",
      "Epoch 14/50\n",
      "391/390 [==============================] - ETA: 0s - loss: 2.5346 - accuracy: 0.3460\n",
      "Epoch 00014: val_accuracy did not improve from 0.32900\n",
      "391/390 [==============================] - 28s 73ms/step - loss: 2.5346 - accuracy: 0.3460 - val_loss: 2.7252 - val_accuracy: 0.3213\n",
      "Epoch 15/50\n",
      "391/390 [==============================] - ETA: 0s - loss: 2.4595 - accuracy: 0.3620\n",
      "Epoch 00015: val_accuracy improved from 0.32900 to 0.36040, saving model to VGG_SGD_Plain.hdf5\n",
      "391/390 [==============================] - 29s 74ms/step - loss: 2.4595 - accuracy: 0.3620 - val_loss: 2.5602 - val_accuracy: 0.3604\n",
      "Epoch 16/50\n",
      "391/390 [==============================] - ETA: 0s - loss: 2.3997 - accuracy: 0.3754\n",
      "Epoch 00016: val_accuracy improved from 0.36040 to 0.36410, saving model to VGG_SGD_Plain.hdf5\n",
      "391/390 [==============================] - 29s 74ms/step - loss: 2.3997 - accuracy: 0.3754 - val_loss: 2.5153 - val_accuracy: 0.3641\n",
      "Epoch 17/50\n",
      "391/390 [==============================] - ETA: 0s - loss: 2.3322 - accuracy: 0.3889\n",
      "Epoch 00017: val_accuracy improved from 0.36410 to 0.37140, saving model to VGG_SGD_Plain.hdf5\n",
      "391/390 [==============================] - 29s 74ms/step - loss: 2.3322 - accuracy: 0.3889 - val_loss: 2.4999 - val_accuracy: 0.3714\n",
      "Epoch 18/50\n",
      "391/390 [==============================] - ETA: 0s - loss: 2.2707 - accuracy: 0.4015\n",
      "Epoch 00018: val_accuracy did not improve from 0.37140\n",
      "391/390 [==============================] - 29s 73ms/step - loss: 2.2707 - accuracy: 0.4015 - val_loss: 2.4931 - val_accuracy: 0.3625\n",
      "Epoch 19/50\n",
      "391/390 [==============================] - ETA: 0s - loss: 2.2061 - accuracy: 0.4153\n",
      "Epoch 00019: val_accuracy improved from 0.37140 to 0.37910, saving model to VGG_SGD_Plain.hdf5\n",
      "391/390 [==============================] - 29s 74ms/step - loss: 2.2061 - accuracy: 0.4153 - val_loss: 2.4474 - val_accuracy: 0.3791\n",
      "Epoch 20/50\n",
      "391/390 [==============================] - ETA: 0s - loss: 2.1569 - accuracy: 0.4265\n",
      "Epoch 00020: val_accuracy improved from 0.37910 to 0.40320, saving model to VGG_SGD_Plain.hdf5\n",
      "391/390 [==============================] - 29s 74ms/step - loss: 2.1569 - accuracy: 0.4265 - val_loss: 2.3486 - val_accuracy: 0.4032\n",
      "Epoch 21/50\n",
      "391/390 [==============================] - ETA: 0s - loss: 2.0872 - accuracy: 0.4425\n",
      "Epoch 00021: val_accuracy did not improve from 0.40320\n",
      "391/390 [==============================] - 29s 74ms/step - loss: 2.0872 - accuracy: 0.4425 - val_loss: 2.3642 - val_accuracy: 0.4001\n",
      "Epoch 22/50\n",
      "391/390 [==============================] - ETA: 0s - loss: 2.0299 - accuracy: 0.4550\n",
      "Epoch 00022: val_accuracy improved from 0.40320 to 0.41160, saving model to VGG_SGD_Plain.hdf5\n",
      "391/390 [==============================] - 29s 74ms/step - loss: 2.0299 - accuracy: 0.4550 - val_loss: 2.3220 - val_accuracy: 0.4116\n",
      "Epoch 23/50\n",
      "391/390 [==============================] - ETA: 0s - loss: 1.9579 - accuracy: 0.4689\n",
      "Epoch 00023: val_accuracy improved from 0.41160 to 0.41460, saving model to VGG_SGD_Plain.hdf5\n",
      "391/390 [==============================] - 29s 75ms/step - loss: 1.9579 - accuracy: 0.4689 - val_loss: 2.2790 - val_accuracy: 0.4146\n",
      "Epoch 24/50\n",
      "391/390 [==============================] - ETA: 0s - loss: 1.9045 - accuracy: 0.4831\n",
      "Epoch 00024: val_accuracy improved from 0.41460 to 0.41610, saving model to VGG_SGD_Plain.hdf5\n",
      "391/390 [==============================] - 30s 77ms/step - loss: 1.9045 - accuracy: 0.4831 - val_loss: 2.3098 - val_accuracy: 0.4161\n",
      "Epoch 25/50\n",
      "391/390 [==============================] - ETA: 0s - loss: 1.8481 - accuracy: 0.4964\n",
      "Epoch 00025: val_accuracy improved from 0.41610 to 0.41850, saving model to VGG_SGD_Plain.hdf5\n",
      "391/390 [==============================] - 30s 76ms/step - loss: 1.8481 - accuracy: 0.4964 - val_loss: 2.3183 - val_accuracy: 0.4185\n",
      "Epoch 26/50\n",
      "391/390 [==============================] - ETA: 0s - loss: 1.7927 - accuracy: 0.5093\n",
      "Epoch 00026: val_accuracy improved from 0.41850 to 0.42300, saving model to VGG_SGD_Plain.hdf5\n",
      "391/390 [==============================] - 30s 76ms/step - loss: 1.7927 - accuracy: 0.5093 - val_loss: 2.2881 - val_accuracy: 0.4230\n",
      "Epoch 27/50\n",
      "391/390 [==============================] - ETA: 0s - loss: 1.7331 - accuracy: 0.5242\n",
      "Epoch 00027: val_accuracy improved from 0.42300 to 0.43080, saving model to VGG_SGD_Plain.hdf5\n",
      "391/390 [==============================] - 30s 76ms/step - loss: 1.7331 - accuracy: 0.5242 - val_loss: 2.2614 - val_accuracy: 0.4308\n",
      "Epoch 28/50\n",
      "391/390 [==============================] - ETA: 0s - loss: 1.6854 - accuracy: 0.5348\n",
      "Epoch 00028: val_accuracy did not improve from 0.43080\n",
      "391/390 [==============================] - 29s 75ms/step - loss: 1.6854 - accuracy: 0.5348 - val_loss: 2.3154 - val_accuracy: 0.4248\n",
      "Epoch 29/50\n",
      "391/390 [==============================] - ETA: 0s - loss: 1.6077 - accuracy: 0.5500\n",
      "Epoch 00029: val_accuracy improved from 0.43080 to 0.43240, saving model to VGG_SGD_Plain.hdf5\n",
      "391/390 [==============================] - 30s 76ms/step - loss: 1.6077 - accuracy: 0.5500 - val_loss: 2.3192 - val_accuracy: 0.4324\n",
      "Epoch 30/50\n",
      "391/390 [==============================] - ETA: 0s - loss: 1.5651 - accuracy: 0.5608\n",
      "Epoch 00030: val_accuracy improved from 0.43240 to 0.44290, saving model to VGG_SGD_Plain.hdf5\n",
      "391/390 [==============================] - 30s 76ms/step - loss: 1.5651 - accuracy: 0.5608 - val_loss: 2.2814 - val_accuracy: 0.4429\n",
      "Epoch 31/50\n",
      "391/390 [==============================] - ETA: 0s - loss: 1.5042 - accuracy: 0.5751\n",
      "Epoch 00031: val_accuracy did not improve from 0.44290\n",
      "391/390 [==============================] - 29s 75ms/step - loss: 1.5042 - accuracy: 0.5751 - val_loss: 2.4112 - val_accuracy: 0.4224\n",
      "Epoch 32/50\n",
      "391/390 [==============================] - ETA: 0s - loss: 1.4476 - accuracy: 0.5888\n",
      "Epoch 00032: val_accuracy did not improve from 0.44290\n",
      "391/390 [==============================] - 29s 75ms/step - loss: 1.4476 - accuracy: 0.5888 - val_loss: 2.4430 - val_accuracy: 0.4233\n",
      "Epoch 33/50\n",
      "391/390 [==============================] - ETA: 0s - loss: 1.3825 - accuracy: 0.6046\n",
      "Epoch 00033: val_accuracy did not improve from 0.44290\n",
      "391/390 [==============================] - 29s 75ms/step - loss: 1.3825 - accuracy: 0.6046 - val_loss: 2.4188 - val_accuracy: 0.4244\n",
      "Epoch 34/50\n",
      "391/390 [==============================] - ETA: 0s - loss: 1.3487 - accuracy: 0.6104\n",
      "Epoch 00034: val_accuracy did not improve from 0.44290\n",
      "391/390 [==============================] - 29s 75ms/step - loss: 1.3487 - accuracy: 0.6104 - val_loss: 2.3985 - val_accuracy: 0.4325\n",
      "Epoch 35/50\n",
      "391/390 [==============================] - ETA: 0s - loss: 1.2875 - accuracy: 0.6279\n",
      "Epoch 00035: val_accuracy did not improve from 0.44290\n",
      "391/390 [==============================] - 29s 75ms/step - loss: 1.2875 - accuracy: 0.6279 - val_loss: 2.4188 - val_accuracy: 0.4348\n",
      "Epoch 36/50\n",
      "391/390 [==============================] - ETA: 0s - loss: 1.2228 - accuracy: 0.6446\n",
      "Epoch 00036: val_accuracy improved from 0.44290 to 0.44330, saving model to VGG_SGD_Plain.hdf5\n",
      "391/390 [==============================] - 30s 76ms/step - loss: 1.2228 - accuracy: 0.6446 - val_loss: 2.3966 - val_accuracy: 0.4433\n",
      "Epoch 37/50\n",
      "391/390 [==============================] - ETA: 0s - loss: 1.1769 - accuracy: 0.6574\n",
      "Epoch 00037: val_accuracy did not improve from 0.44330\n",
      "391/390 [==============================] - 30s 76ms/step - loss: 1.1769 - accuracy: 0.6574 - val_loss: 2.4946 - val_accuracy: 0.4276\n",
      "Epoch 38/50\n",
      "391/390 [==============================] - ETA: 0s - loss: 1.1142 - accuracy: 0.6716\n",
      "Epoch 00038: val_accuracy did not improve from 0.44330\n",
      "391/390 [==============================] - 29s 75ms/step - loss: 1.1142 - accuracy: 0.6716 - val_loss: 2.5972 - val_accuracy: 0.4250\n",
      "Epoch 39/50\n",
      "391/390 [==============================] - ETA: 0s - loss: 1.0723 - accuracy: 0.6826\n",
      "Epoch 00039: val_accuracy did not improve from 0.44330\n",
      "391/390 [==============================] - 29s 75ms/step - loss: 1.0723 - accuracy: 0.6826 - val_loss: 2.5878 - val_accuracy: 0.4240\n",
      "Epoch 40/50\n",
      "391/390 [==============================] - ETA: 0s - loss: 1.0082 - accuracy: 0.6995\n",
      "Epoch 00040: val_accuracy did not improve from 0.44330\n",
      "391/390 [==============================] - 29s 75ms/step - loss: 1.0082 - accuracy: 0.6995 - val_loss: 2.5791 - val_accuracy: 0.4407\n",
      "Epoch 41/50\n",
      "391/390 [==============================] - ETA: 0s - loss: 0.9644 - accuracy: 0.7104\n",
      "Epoch 00041: val_accuracy improved from 0.44330 to 0.44520, saving model to VGG_SGD_Plain.hdf5\n",
      "391/390 [==============================] - 30s 76ms/step - loss: 0.9644 - accuracy: 0.7104 - val_loss: 2.6024 - val_accuracy: 0.4452\n",
      "Epoch 42/50\n",
      "391/390 [==============================] - ETA: 0s - loss: 0.9123 - accuracy: 0.7236\n",
      "Epoch 00042: val_accuracy did not improve from 0.44520\n",
      "391/390 [==============================] - 30s 76ms/step - loss: 0.9123 - accuracy: 0.7236 - val_loss: 2.8418 - val_accuracy: 0.4264\n",
      "Epoch 43/50\n",
      "391/390 [==============================] - ETA: 0s - loss: 0.8692 - accuracy: 0.7367\n",
      "Epoch 00043: val_accuracy did not improve from 0.44520\n",
      "391/390 [==============================] - 29s 75ms/step - loss: 0.8692 - accuracy: 0.7367 - val_loss: 2.7885 - val_accuracy: 0.4290\n",
      "Epoch 44/50\n",
      "391/390 [==============================] - ETA: 0s - loss: 0.8278 - accuracy: 0.7464\n",
      "Epoch 00044: val_accuracy did not improve from 0.44520\n",
      "391/390 [==============================] - 29s 75ms/step - loss: 0.8278 - accuracy: 0.7464 - val_loss: 3.0010 - val_accuracy: 0.4096\n",
      "Epoch 45/50\n",
      "391/390 [==============================] - ETA: 0s - loss: 0.7898 - accuracy: 0.7592\n",
      "Epoch 00045: val_accuracy did not improve from 0.44520\n",
      "391/390 [==============================] - 30s 75ms/step - loss: 0.7898 - accuracy: 0.7592 - val_loss: 2.8869 - val_accuracy: 0.4283\n",
      "Epoch 46/50\n",
      "391/390 [==============================] - ETA: 0s - loss: 0.7440 - accuracy: 0.7718\n",
      "Epoch 00046: val_accuracy improved from 0.44520 to 0.44530, saving model to VGG_SGD_Plain.hdf5\n",
      "391/390 [==============================] - 30s 76ms/step - loss: 0.7440 - accuracy: 0.7718 - val_loss: 2.7812 - val_accuracy: 0.4453\n",
      "Epoch 47/50\n",
      "391/390 [==============================] - ETA: 0s - loss: 0.6956 - accuracy: 0.7842\n",
      "Epoch 00047: val_accuracy did not improve from 0.44530\n",
      "391/390 [==============================] - 30s 76ms/step - loss: 0.6956 - accuracy: 0.7842 - val_loss: 2.8629 - val_accuracy: 0.4383\n",
      "Epoch 48/50\n",
      "391/390 [==============================] - ETA: 0s - loss: 0.6555 - accuracy: 0.7945\n",
      "Epoch 00048: val_accuracy did not improve from 0.44530\n",
      "391/390 [==============================] - 29s 75ms/step - loss: 0.6555 - accuracy: 0.7945 - val_loss: 3.3174 - val_accuracy: 0.3849\n",
      "Epoch 49/50\n",
      "391/390 [==============================] - ETA: 0s - loss: 0.6181 - accuracy: 0.8063\n",
      "Epoch 00049: val_accuracy did not improve from 0.44530\n",
      "391/390 [==============================] - 29s 75ms/step - loss: 0.6181 - accuracy: 0.8063 - val_loss: 3.3453 - val_accuracy: 0.4160\n",
      "Epoch 50/50\n",
      "391/390 [==============================] - ETA: 0s - loss: 0.5960 - accuracy: 0.8151\n",
      "Epoch 00050: val_accuracy did not improve from 0.44530\n",
      "391/390 [==============================] - 29s 75ms/step - loss: 0.5960 - accuracy: 0.8151 - val_loss: 3.2254 - val_accuracy: 0.4340\n"
     ]
    }
   ],
   "source": [
    "# model.fit(x_train, y_train,\n",
    "#           batch_size=batch_size,\n",
    "#           epochs=epochs,\n",
    "#           verbose=1,\n",
    "#           validation_data=(x_test, y_test))\n",
    "from tensorflow.keras.callbacks import ModelCheckpoint, TensorBoard,EarlyStopping\n",
    "import datetime\n",
    "import os\n",
    "\n",
    "\n",
    "checkpoint = ModelCheckpoint('VGG_SGD_Plain.hdf5', monitor='val_accuracy', verbose=1, save_best_only=True, save_weights_only=True, mode='auto', period=1)\n",
    "early = EarlyStopping(monitor='val_accuracy', min_delta=0, patience=10, verbose=1, mode='auto',restore_best_weights=True)\n",
    "history=model.fit_generator(datagen.flow(x_train, y_train, batch_size=128),\n",
    "                    steps_per_epoch = len(x_train) / 128, epochs=50, validation_data=(x_test, y_test),callbacks=[early,checkpoint])"
   ]
  },
  {
   "cell_type": "code",
   "execution_count": null,
   "metadata": {
    "colab": {
     "base_uri": "https://localhost:8080/",
     "height": 68
    },
    "id": "zPhSNWJl_gGi",
    "outputId": "335e0eac-0bd7-486c-b3b2-20dbf24af7c1"
   },
   "outputs": [
    {
     "name": "stdout",
     "output_type": "stream",
     "text": [
      "Prec: 0.46998147346974545\n",
      "Recall: 0.434\n",
      "Accuracy: 0.434\n"
     ]
    }
   ],
   "source": [
    "\n",
    "# Test the model\n",
    "y_true = y_test.argmax(-1)\n",
    "y_pred = model.predict(x_test).argmax(-1)\n",
    "# generate confusion matrix\n",
    "from sklearn.metrics import confusion_matrix, precision_score, recall_score, accuracy_score\n",
    "confusion_matrix(y_true, y_pred)\n",
    "# calculate prec, recall, accuracy\n",
    "print(\"Prec: \"+ str(precision_score(y_true, y_pred, average='weighted')))\n",
    "print(\"Recall: \"+ str(recall_score(y_true, y_pred, average='weighted')))\n",
    "print(\"Accuracy: \" + str(accuracy_score(y_true, y_pred)))"
   ]
  },
  {
   "cell_type": "code",
   "execution_count": null,
   "metadata": {
    "colab": {
     "base_uri": "https://localhost:8080/",
     "height": 295
    },
    "id": "-1rAlsyEbyXb",
    "outputId": "94b079f5-9035-4547-e986-0ac57095ad03"
   },
   "outputs": [
    {
     "data": {
      "image/png": "[encoded data removed]",
      "text/plain": [
       "<Figure size 432x288 with 1 Axes>"
      ]
     },
     "metadata": {
      "needs_background": "light",
      "tags": []
     },
     "output_type": "display_data"
    }
   ],
   "source": [
    "import matplotlib.pyplot as plt\n",
    "plt.plot(history.history[\"accuracy\"])\n",
    "plt.plot(history.history['val_accuracy'])\n",
    "plt.plot(history.history['loss'])\n",
    "plt.plot(history.history['val_loss'])\n",
    "plt.title(\"model accuracy\")\n",
    "plt.ylabel(\"Accuracy\")\n",
    "plt.xlabel(\"Epoch\")\n",
    "plt.legend([\"Accuracy\",\"Validation Accuracy\",\"loss\",\"Validation Loss\"])\n",
    "plt.show()"
   ]
  },
  {
   "cell_type": "markdown",
   "metadata": {
    "id": "BspES9x3Dczu"
   },
   "source": [
    "# cell to load best weights"
   ]
  },
  {
   "cell_type": "code",
   "execution_count": null,
   "metadata": {},
   "outputs": [],
   "source": [
    "#importing the required packages and libraries.\n",
    "import keras\n",
    "from keras.models import Sequential\n",
    "from keras.layers import Dense, Flatten\n",
    "from keras.layers import Conv2D, MaxPooling2D\n",
    "from keras.datasets import cifar100\n",
    "from keras.layers import LeakyReLU\n",
    "from keras import backend as K\n",
    "from keras.preprocessing.image import ImageDataGenerator\n",
    "from tensorflow import Tensor\n",
    "from tensorflow.keras.layers import Input, Conv2D, ReLU,LeakyReLU, BatchNormalization,\\\n",
    "                                    Add, AveragePooling2D, Flatten, Dense, Dropout,ZeroPadding2D,MaxPool2D,concatenate\n",
    "from tensorflow.keras.models import Model\n",
    "from keras.initializers import glorot_uniform\n",
    "from tensorflow.keras.optimizers import Adam,SGD\n",
    "\n",
    "(x_train, y_train), (x_test, y_test) = cifar100.load_data()\n",
    "\n",
    "x_train = x_train.astype('float32') \n",
    "x_test = x_test.astype('float32')\n",
    "x_train /= 255 #normalising the data.\n",
    "x_test /= 255 #normalising the data.\n",
    "\n",
    "\n",
    "# convert class vectors to binary class matrices\n",
    "y_train = keras.utils.to_categorical(y_train, num_classes)\n",
    "y_test = keras.utils.to_categorical(y_test, num_classes)\n",
    "\n",
    "initializer = keras.initializers.HeNormal()\n",
    "\n",
    "model = Sequential()\n",
    "model.add(Conv2D(input_shape=(32,32,3),filters=64,kernel_initializer=initializer,bias_initializer=keras.initializers.Constant(0.1),kernel_size=(3,3),padding=\"same\", activation=\"relu\"))\n",
    "model.add(Conv2D(filters=64,kernel_initializer=initializer,bias_initializer=keras.initializers.Constant(0.1),kernel_size=(3,3),padding=\"same\", activation=\"relu\"))\n",
    "model.add(MaxPooling2D(pool_size=(2,2),strides=(2,2)))\n",
    "model.add(Conv2D(filters=128,kernel_initializer=initializer,bias_initializer=keras.initializers.Constant(0.1),kernel_size=(3,3), padding=\"same\"))\n",
    "model.add(Conv2D(filters=128,kernel_initializer=initializer,bias_initializer=keras.initializers.Constant(0.1),kernel_size=(3,3), padding=\"same\", activation=\"relu\"))\n",
    "model.add(MaxPooling2D(pool_size=(2,2),strides=(2,2)))\n",
    "model.add(Conv2D(filters=256, kernel_size=(3,3), padding=\"same\", activation=\"relu\"))\n",
    "model.add(Conv2D(filters=256, kernel_size=(3,3), padding=\"same\",bias_initializer=keras.initializers.Constant(0.1), activation=\"relu\"))\n",
    "model.add(Conv2D(filters=256, kernel_size=(3,3), padding=\"same\", activation=\"relu\"))\n",
    "model.add(MaxPooling2D(pool_size=(2,2),strides=(2,2)))\n",
    "model.add(Conv2D(filters=512, kernel_size=(3,3),kernel_initializer=initializer,bias_initializer=keras.initializers.Constant(0.1),padding=\"same\", activation=\"relu\"))\n",
    "model.add(Conv2D(filters=512, kernel_size=(3,3),kernel_initializer=initializer,bias_initializer=keras.initializers.Constant(0.1),padding=\"same\", activation=\"relu\"))\n",
    "model.add(Conv2D(filters=512, kernel_size=(3,3),kernel_initializer=initializer,bias_initializer=keras.initializers.Constant(0.1), padding=\"same\", activation=\"relu\"))\n",
    "model.add(MaxPooling2D(pool_size=(2,2),strides=(2,2)))\n",
    "model.add(Conv2D(filters=512, kernel_size=(3,3),kernel_initializer=initializer, padding=\"same\",bias_initializer=keras.initializers.Constant(0.1), activation=\"relu\"))\n",
    "model.add(Conv2D(filters=512, kernel_size=(3,3), padding=\"same\", activation=\"relu\"))\n",
    "model.add(Conv2D(filters=512, kernel_size=(3,3),kernel_initializer=initializer,bias_initializer=keras.initializers.Constant(0.1), padding=\"same\", activation=\"relu\"))\n",
    "model.add(MaxPooling2D(pool_size=(2,2),strides=(2,2)))\n",
    "model.add(Flatten())\n",
    "model.add(Dense(units=4096,kernel_initializer=initializer,bias_initializer=keras.initializers.Constant(0.1),activation=\"relu\"))\n",
    "model.add(Dense(units=4096,kernel_initializer=initializer,bias_initializer=keras.initializers.Constant(0.1),activation=\"relu\"))\n",
    "model.add(Dense(num_classes,kernel_initializer=initializer,bias_initializer=keras.initializers.Constant(0.1), activation='softmax'))\n",
    "\n",
    "model.load_weights('../weights/VGG16_SGD_With_NoRegularization.hdf5')\n",
    "\n",
    "y_true = y_test.argmax(-1)\n",
    "y_pred = model.predict(x_test).argmax(-1)\n",
    "# generate confusion matrix\n",
    "from sklearn.metrics import confusion_matrix, precision_score, recall_score, accuracy_score\n",
    "confusion_matrix(y_true, y_pred)\n",
    "# calculate prec, recall, accuracy\n",
    "print(\"Prec: \"+ str(precision_score(y_true, y_pred, average='weighted')))\n",
    "print(\"Recall: \"+ str(recall_score(y_true, y_pred, average='weighted')))\n",
    "print(\"Accuracy: \" + str(accuracy_score(y_true, y_pred)))"
   ]
  }
 ],
 "metadata": {
  "accelerator": "GPU",
  "colab": {
   "collapsed_sections": [],
   "name": "VGG_SGD_PLAIN.ipynb",
   "provenance": []
  },
  "kernelspec": {
   "display_name": "Python 3",
   "language": "python",
   "name": "python3"
  },
  "language_info": {
   "codemirror_mode": {
    "name": "ipython",
    "version": 3
   },
   "file_extension": ".py",
   "mimetype": "text/x-python",
   "name": "python",
   "nbconvert_exporter": "python",
   "pygments_lexer": "ipython3",
   "version": "3.7.4"
  }
 },
 "nbformat": 4,
 "nbformat_minor": 1
}
