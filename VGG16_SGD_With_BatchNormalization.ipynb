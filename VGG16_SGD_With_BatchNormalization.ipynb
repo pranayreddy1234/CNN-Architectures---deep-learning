{
 "cells": [
  {
   "cell_type": "code",
   "execution_count": null,
   "metadata": {
    "id": "tkI1MjvlzDrU"
   },
   "outputs": [],
   "source": [
    "import keras\n",
    "from keras.models import Sequential\n",
    "from keras.layers import Dense, Flatten\n",
    "from keras.layers import Conv2D, MaxPooling2D\n",
    "from keras.layers.normalization import BatchNormalization\n",
    "from keras import backend as K\n",
    "from keras.datasets import cifar100\n",
    "from keras.layers import ELU\n",
    "import numpy as np"
   ]
  },
  {
   "cell_type": "code",
   "execution_count": null,
   "metadata": {
    "colab": {
     "base_uri": "https://localhost:8080/",
     "height": 51
    },
    "id": "FxUCRN0WzIq1",
    "outputId": "b1f60774-67b9-43b4-ad38-a9279b8d7182"
   },
   "outputs": [
    {
     "name": "stdout",
     "output_type": "stream",
     "text": [
      "Downloading data from https://www.cs.toronto.edu/~kriz/cifar-100-python.tar.gz\n",
      "169009152/169001437 [==============================] - 6s 0us/step\n"
     ]
    }
   ],
   "source": [
    "(x_train, y_train), (x_test, y_test) = cifar100.load_data(label_mode=\"fine\")\n"
   ]
  },
  {
   "cell_type": "code",
   "execution_count": null,
   "metadata": {
    "id": "gB2o_Z72zYzd"
   },
   "outputs": [],
   "source": [
    "batch_size = 128 #batch size as 128\n",
    "num_classes = 100 # we got 100 classes dataset\n",
    "epochs = 12 # iterations over dataset\n",
    "img_rows, img_cols = 32, 32"
   ]
  },
  {
   "cell_type": "code",
   "execution_count": null,
   "metadata": {
    "colab": {
     "base_uri": "https://localhost:8080/",
     "height": 85
    },
    "id": "1hYnTYG3zbnz",
    "outputId": "67eafa34-8b1c-4c9b-dbfc-f764370528fb"
   },
   "outputs": [
    {
     "name": "stdout",
     "output_type": "stream",
     "text": [
      "x_train Shape: (50000, 32, 32, 3)\n",
      "y_train Shape: (50000, 1)\n",
      "x_test  Shape: (10000, 32, 32, 3)\n",
      "y_test  Shape: (10000, 1)\n"
     ]
    }
   ],
   "source": [
    "if K.image_data_format() == 'channels_first':\n",
    "    x_train = x_train.reshape(x_train.shape[0], 3, img_rows, img_cols)\n",
    "    x_test = x_test.reshape(x_test.shape[0], 3, img_rows, img_cols)\n",
    "    input_shape = (3, img_rows, img_cols)\n",
    "else:\n",
    "    x_train = x_train.reshape(x_train.shape[0], img_rows, img_cols, 3)\n",
    "    x_test = x_test.reshape(x_test.shape[0], img_rows, img_cols, 3)\n",
    "    input_shape = (img_rows, img_cols, 3)\n",
    "\n",
    "print('x_train Shape:', x_train.shape)\n",
    "print('y_train Shape:', y_train.shape)\n",
    "print('x_test  Shape:', x_test.shape)\n",
    "print('y_test  Shape:', y_test.shape)"
   ]
  },
  {
   "cell_type": "code",
   "execution_count": null,
   "metadata": {
    "colab": {
     "base_uri": "https://localhost:8080/",
     "height": 68
    },
    "id": "VBI7XS1nz1w-",
    "outputId": "0c0c4d35-d32b-4f09-93df-9250528b4ee8"
   },
   "outputs": [
    {
     "name": "stdout",
     "output_type": "stream",
     "text": [
      "x_train shape: (50000, 32, 32, 3)\n",
      "50000 train samples\n",
      "10000 test samples\n"
     ]
    }
   ],
   "source": [
    "x_train = x_train.astype('float32') \n",
    "x_test = x_test.astype('float32')\n",
    "x_train /= 255 #normalising the data.\n",
    "x_test /= 255 #normalising the data.\n",
    "print('x_train shape:', x_train.shape)\n",
    "print(x_train.shape[0], 'train samples')\n",
    "print(x_test.shape[0], 'test samples')\n",
    "\n",
    "# convert class vectors to binary class matrices\n",
    "y_train = keras.utils.to_categorical(y_train, num_classes)\n",
    "y_test = keras.utils.to_categorical(y_test, num_classes)"
   ]
  },
  {
   "cell_type": "code",
   "execution_count": null,
   "metadata": {
    "id": "O8FXkYxCGa1r"
   },
   "outputs": [],
   "source": [
    "initializer = keras.initializers.HeNormal()\n",
    "#layer = tf.keras.layers.Dense(3, kernel_initializer=initializer)"
   ]
  },
  {
   "cell_type": "code",
   "execution_count": null,
   "metadata": {
    "colab": {
     "base_uri": "https://localhost:8080/",
     "height": 1000
    },
    "id": "fE86aFC0GUeg",
    "outputId": "aacce85a-c188-4f7a-ee18-680525d40687"
   },
   "outputs": [
    {
     "name": "stdout",
     "output_type": "stream",
     "text": [
      "Model: \"sequential\"\n",
      "_________________________________________________________________\n",
      "Layer (type)                 Output Shape              Param #   \n",
      "=================================================================\n",
      "conv2d (Conv2D)              (None, 32, 32, 64)        1792      \n",
      "_________________________________________________________________\n",
      "batch_normalization (BatchNo (None, 32, 32, 64)        256       \n",
      "_________________________________________________________________\n",
      "conv2d_1 (Conv2D)            (None, 32, 32, 64)        36928     \n",
      "_________________________________________________________________\n",
      "batch_normalization_1 (Batch (None, 32, 32, 64)        256       \n",
      "_________________________________________________________________\n",
      "max_pooling2d (MaxPooling2D) (None, 16, 16, 64)        0         \n",
      "_________________________________________________________________\n",
      "conv2d_2 (Conv2D)            (None, 16, 16, 128)       73856     \n",
      "_________________________________________________________________\n",
      "batch_normalization_2 (Batch (None, 16, 16, 128)       512       \n",
      "_________________________________________________________________\n",
      "conv2d_3 (Conv2D)            (None, 16, 16, 128)       147584    \n",
      "_________________________________________________________________\n",
      "batch_normalization_3 (Batch (None, 16, 16, 128)       512       \n",
      "_________________________________________________________________\n",
      "max_pooling2d_1 (MaxPooling2 (None, 8, 8, 128)         0         \n",
      "_________________________________________________________________\n",
      "batch_normalization_4 (Batch (None, 8, 8, 128)         512       \n",
      "_________________________________________________________________\n",
      "conv2d_4 (Conv2D)            (None, 8, 8, 256)         295168    \n",
      "_________________________________________________________________\n",
      "batch_normalization_5 (Batch (None, 8, 8, 256)         1024      \n",
      "_________________________________________________________________\n",
      "conv2d_5 (Conv2D)            (None, 8, 8, 256)         590080    \n",
      "_________________________________________________________________\n",
      "conv2d_6 (Conv2D)            (None, 8, 8, 256)         590080    \n",
      "_________________________________________________________________\n",
      "batch_normalization_6 (Batch (None, 8, 8, 256)         1024      \n",
      "_________________________________________________________________\n",
      "max_pooling2d_2 (MaxPooling2 (None, 4, 4, 256)         0         \n",
      "_________________________________________________________________\n",
      "conv2d_7 (Conv2D)            (None, 4, 4, 512)         1180160   \n",
      "_________________________________________________________________\n",
      "conv2d_8 (Conv2D)            (None, 4, 4, 512)         2359808   \n",
      "_________________________________________________________________\n",
      "batch_normalization_7 (Batch (None, 4, 4, 512)         2048      \n",
      "_________________________________________________________________\n",
      "conv2d_9 (Conv2D)            (None, 4, 4, 512)         2359808   \n",
      "_________________________________________________________________\n",
      "max_pooling2d_3 (MaxPooling2 (None, 2, 2, 512)         0         \n",
      "_________________________________________________________________\n",
      "conv2d_10 (Conv2D)           (None, 2, 2, 512)         2359808   \n",
      "_________________________________________________________________\n",
      "batch_normalization_8 (Batch (None, 2, 2, 512)         2048      \n",
      "_________________________________________________________________\n",
      "conv2d_11 (Conv2D)           (None, 2, 2, 512)         2359808   \n",
      "_________________________________________________________________\n",
      "conv2d_12 (Conv2D)           (None, 2, 2, 512)         2359808   \n",
      "_________________________________________________________________\n",
      "batch_normalization_9 (Batch (None, 2, 2, 512)         2048      \n",
      "_________________________________________________________________\n",
      "max_pooling2d_4 (MaxPooling2 (None, 1, 1, 512)         0         \n",
      "_________________________________________________________________\n",
      "flatten (Flatten)            (None, 512)               0         \n",
      "_________________________________________________________________\n",
      "dense (Dense)                (None, 4096)              2101248   \n",
      "_________________________________________________________________\n",
      "dense_1 (Dense)              (None, 4096)              16781312  \n",
      "_________________________________________________________________\n",
      "dense_2 (Dense)              (None, 100)               409700    \n",
      "=================================================================\n",
      "Total params: 34,017,188\n",
      "Trainable params: 34,012,068\n",
      "Non-trainable params: 5,120\n",
      "_________________________________________________________________\n"
     ]
    }
   ],
   "source": [
    "model = Sequential()\n",
    "model.add(Conv2D(input_shape=(32,32,3),filters=64,kernel_initializer=initializer,bias_initializer=keras.initializers.Constant(0.1),kernel_size=(3,3),padding=\"same\", activation=\"relu\"))\n",
    "model.add(BatchNormalization())\n",
    "model.add(Conv2D(filters=64,kernel_initializer=initializer,bias_initializer=keras.initializers.Constant(0.1),kernel_size=(3,3),padding=\"same\", activation=\"relu\"))\n",
    "model.add(BatchNormalization())\n",
    "model.add(MaxPooling2D(pool_size=(2,2),strides=(2,2)))\n",
    "model.add(Conv2D(filters=128,kernel_initializer=initializer,bias_initializer=keras.initializers.Constant(0.1),kernel_size=(3,3), padding=\"same\"))\n",
    "model.add(BatchNormalization())\n",
    "model.add(Conv2D(filters=128,kernel_initializer=initializer,bias_initializer=keras.initializers.Constant(0.1),kernel_size=(3,3), padding=\"same\", activation=\"relu\"))\n",
    "model.add(BatchNormalization())\n",
    "model.add(MaxPooling2D(pool_size=(2,2),strides=(2,2)))\n",
    "model.add(BatchNormalization())\n",
    "model.add(Conv2D(filters=256, kernel_size=(3,3), padding=\"same\", activation=\"relu\"))\n",
    "model.add(BatchNormalization())\n",
    "model.add(Conv2D(filters=256, kernel_size=(3,3), padding=\"same\",bias_initializer=keras.initializers.Constant(0.1), activation=\"relu\"))\n",
    "model.add(Conv2D(filters=256, kernel_size=(3,3), padding=\"same\", activation=\"relu\"))\n",
    "model.add(BatchNormalization())\n",
    "model.add(MaxPooling2D(pool_size=(2,2),strides=(2,2)))\n",
    "model.add(Conv2D(filters=512, kernel_size=(3,3),kernel_initializer=initializer,bias_initializer=keras.initializers.Constant(0.1),padding=\"same\", activation=\"relu\"))\n",
    "model.add(Conv2D(filters=512, kernel_size=(3,3),kernel_initializer=initializer,bias_initializer=keras.initializers.Constant(0.1),padding=\"same\", activation=\"relu\"))\n",
    "model.add(BatchNormalization())\n",
    "model.add(Conv2D(filters=512, kernel_size=(3,3),kernel_initializer=initializer,bias_initializer=keras.initializers.Constant(0.1), padding=\"same\", activation=\"relu\"))\n",
    "model.add(MaxPooling2D(pool_size=(2,2),strides=(2,2)))\n",
    "model.add(Conv2D(filters=512, kernel_size=(3,3),kernel_initializer=initializer, padding=\"same\",bias_initializer=keras.initializers.Constant(0.1), activation=\"relu\"))\n",
    "model.add(BatchNormalization())\n",
    "model.add(Conv2D(filters=512, kernel_size=(3,3), padding=\"same\", activation=\"relu\"))\n",
    "model.add(Conv2D(filters=512, kernel_size=(3,3),kernel_initializer=initializer,bias_initializer=keras.initializers.Constant(0.1), padding=\"same\", activation=\"relu\"))\n",
    "model.add(BatchNormalization())\n",
    "model.add(MaxPooling2D(pool_size=(2,2),strides=(2,2)))\n",
    "model.add(Flatten())\n",
    "model.add(Dense(units=4096,kernel_initializer=initializer,bias_initializer=keras.initializers.Constant(0.1),activation=\"relu\"))\n",
    "model.add(Dense(units=4096,kernel_initializer=initializer,bias_initializer=keras.initializers.Constant(0.1),activation=\"relu\"))\n",
    "model.add(Dense(num_classes,kernel_initializer=initializer,bias_initializer=keras.initializers.Constant(0.1), activation='softmax'))\n",
    "\n",
    "model.summary()"
   ]
  },
  {
   "cell_type": "code",
   "execution_count": null,
   "metadata": {
    "id": "KK6UEP3wJXNQ"
   },
   "outputs": [],
   "source": [
    "model.compile(loss=keras.losses.categorical_crossentropy,\n",
    "              optimizer=keras.optimizers.SGD(),\n",
    "              metrics=['accuracy'])"
   ]
  },
  {
   "cell_type": "code",
   "execution_count": null,
   "metadata": {
    "colab": {
     "base_uri": "https://localhost:8080/",
     "height": 34
    },
    "id": "NAdtQIkAGFrf",
    "outputId": "024cab23-0add-4b7e-a098-8943759c17e8"
   },
   "outputs": [
    {
     "name": "stdout",
     "output_type": "stream",
     "text": [
      "WARNING:tensorflow:`period` argument is deprecated. Please use `save_freq` to specify the frequency in number of batches seen.\n"
     ]
    }
   ],
   "source": [
    "from tensorflow.keras.callbacks import ModelCheckpoint, TensorBoard,EarlyStopping\n",
    "import datetime\n",
    "import os\n",
    "\n",
    "checkpoint = ModelCheckpoint('VGG_SGD_BATCHNORM.hdf5', monitor='val_accuracy', verbose=1, save_best_only=True, save_weights_only=True, mode='auto', period=1)\n",
    "early = EarlyStopping(monitor='val_accuracy', min_delta=0, patience=10, verbose=1, mode='auto',restore_best_weights=True)"
   ]
  },
  {
   "cell_type": "code",
   "execution_count": null,
   "metadata": {
    "colab": {
     "base_uri": "https://localhost:8080/",
     "height": 870
    },
    "id": "wdCmAp4qz1ui",
    "outputId": "7e82ba3f-afb6-495c-d48f-379f852999e4"
   },
   "outputs": [
    {
     "name": "stdout",
     "output_type": "stream",
     "text": [
      "Epoch 1/12\n",
      "  2/391 [..............................] - ETA: 11s - loss: 6.4495 - accuracy: 0.0117   WARNING:tensorflow:Callbacks method `on_train_batch_end` is slow compared to the batch time (batch time: 0.0215s vs `on_train_batch_end` time: 0.0366s). Check your callbacks.\n",
      "391/391 [==============================] - ETA: 0s - loss: 3.8327 - accuracy: 0.1442\n",
      "Epoch 00001: val_accuracy improved from -inf to 0.14220, saving model to VGG_Adam_Plain.hdf5\n",
      "391/391 [==============================] - 27s 68ms/step - loss: 3.8327 - accuracy: 0.1442 - val_loss: 3.7438 - val_accuracy: 0.1422\n",
      "Epoch 2/12\n",
      "390/391 [============================>.] - ETA: 0s - loss: 2.9544 - accuracy: 0.2637\n",
      "Epoch 00002: val_accuracy improved from 0.14220 to 0.24870, saving model to VGG_Adam_Plain.hdf5\n",
      "391/391 [==============================] - 26s 66ms/step - loss: 2.9541 - accuracy: 0.2637 - val_loss: 3.0527 - val_accuracy: 0.2487\n",
      "Epoch 3/12\n",
      "390/391 [============================>.] - ETA: 0s - loss: 2.5263 - accuracy: 0.3483\n",
      "Epoch 00003: val_accuracy improved from 0.24870 to 0.31200, saving model to VGG_Adam_Plain.hdf5\n",
      "391/391 [==============================] - 26s 67ms/step - loss: 2.5256 - accuracy: 0.3485 - val_loss: 2.7640 - val_accuracy: 0.3120\n",
      "Epoch 4/12\n",
      "390/391 [============================>.] - ETA: 0s - loss: 2.1611 - accuracy: 0.4234\n",
      "Epoch 00004: val_accuracy did not improve from 0.31200\n",
      "391/391 [==============================] - 25s 64ms/step - loss: 2.1611 - accuracy: 0.4235 - val_loss: 2.7616 - val_accuracy: 0.3059\n",
      "Epoch 5/12\n",
      "390/391 [============================>.] - ETA: 0s - loss: 1.8581 - accuracy: 0.4962\n",
      "Epoch 00005: val_accuracy improved from 0.31200 to 0.33270, saving model to VGG_Adam_Plain.hdf5\n",
      "391/391 [==============================] - 26s 66ms/step - loss: 1.8581 - accuracy: 0.4962 - val_loss: 2.7642 - val_accuracy: 0.3327\n",
      "Epoch 6/12\n",
      "390/391 [============================>.] - ETA: 0s - loss: 1.5388 - accuracy: 0.5718\n",
      "Epoch 00006: val_accuracy did not improve from 0.33270\n",
      "391/391 [==============================] - 25s 65ms/step - loss: 1.5393 - accuracy: 0.5717 - val_loss: 2.8446 - val_accuracy: 0.3266\n",
      "Epoch 7/12\n",
      "390/391 [============================>.] - ETA: 0s - loss: 1.2540 - accuracy: 0.6394\n",
      "Epoch 00007: val_accuracy improved from 0.33270 to 0.36910, saving model to VGG_Adam_Plain.hdf5\n",
      "391/391 [==============================] - 26s 66ms/step - loss: 1.2542 - accuracy: 0.6393 - val_loss: 2.6874 - val_accuracy: 0.3691\n",
      "Epoch 8/12\n",
      "390/391 [============================>.] - ETA: 0s - loss: 0.9871 - accuracy: 0.7098\n",
      "Epoch 00008: val_accuracy did not improve from 0.36910\n",
      "391/391 [==============================] - 25s 64ms/step - loss: 0.9876 - accuracy: 0.7097 - val_loss: 3.2950 - val_accuracy: 0.3198\n",
      "Epoch 9/12\n",
      "390/391 [============================>.] - ETA: 0s - loss: 0.7261 - accuracy: 0.7833\n",
      "Epoch 00009: val_accuracy improved from 0.36910 to 0.37220, saving model to VGG_Adam_Plain.hdf5\n",
      "391/391 [==============================] - 26s 66ms/step - loss: 0.7261 - accuracy: 0.7832 - val_loss: 2.9635 - val_accuracy: 0.3722\n",
      "Epoch 10/12\n",
      "390/391 [============================>.] - ETA: 0s - loss: 0.5053 - accuracy: 0.8479\n",
      "Epoch 00010: val_accuracy did not improve from 0.37220\n",
      "391/391 [==============================] - 25s 65ms/step - loss: 0.5059 - accuracy: 0.8477 - val_loss: 3.7576 - val_accuracy: 0.3162\n",
      "Epoch 11/12\n",
      "390/391 [============================>.] - ETA: 0s - loss: 0.3403 - accuracy: 0.8952\n",
      "Epoch 00011: val_accuracy did not improve from 0.37220\n",
      "391/391 [==============================] - 26s 66ms/step - loss: 0.3410 - accuracy: 0.8950 - val_loss: 3.3327 - val_accuracy: 0.3647\n",
      "Epoch 12/12\n",
      "390/391 [============================>.] - ETA: 0s - loss: 0.1889 - accuracy: 0.9450\n",
      "Epoch 00012: val_accuracy improved from 0.37220 to 0.39570, saving model to VGG_Adam_Plain.hdf5\n",
      "391/391 [==============================] - 26s 66ms/step - loss: 0.1889 - accuracy: 0.9450 - val_loss: 3.3060 - val_accuracy: 0.3957\n"
     ]
    }
   ],
   "source": [
    "history = model.fit(x_train, y_train,\n",
    "          batch_size=batch_size,\n",
    "          epochs=epochs,\n",
    "          verbose=1,\n",
    "          validation_data=(x_test, y_test),callbacks=[early,checkpoint])\n",
    "# history=model.fit_generator(datagen.flow(x_train, y_train, batch_size=128),\n",
    "#                     steps_per_epoch = len(x_train) / 128, epochs=100, validation_data=(x_test, y_test))"
   ]
  },
  {
   "cell_type": "code",
   "execution_count": null,
   "metadata": {
    "colab": {
     "base_uri": "https://localhost:8080/",
     "height": 68
    },
    "id": "tAEbBgu9BxRx",
    "outputId": "a24dee0e-7936-4176-c2a3-293456215063"
   },
   "outputs": [
    {
     "name": "stdout",
     "output_type": "stream",
     "text": [
      "Prec: 0.4507767478540414\n",
      "Recall: 0.3957\n",
      "Accuracy: 0.3957\n"
     ]
    }
   ],
   "source": [
    "\n",
    "# Test the model\n",
    "y_true = y_test.argmax(-1)\n",
    "y_pred = model.predict(x_test).argmax(-1)\n",
    "# generate confusion matrix\n",
    "from sklearn.metrics import confusion_matrix, precision_score, recall_score, accuracy_score\n",
    "confusion_matrix(y_true, y_pred)\n",
    "# calculate prec, recall, accuracy\n",
    "print(\"Prec: \"+ str(precision_score(y_true, y_pred, average='weighted')))\n",
    "print(\"Recall: \"+ str(recall_score(y_true, y_pred, average='weighted')))\n",
    "print(\"Accuracy: \" + str(accuracy_score(y_true, y_pred)))"
   ]
  },
  {
   "cell_type": "code",
   "execution_count": null,
   "metadata": {
    "colab": {
     "base_uri": "https://localhost:8080/",
     "height": 295
    },
    "id": "Eyv27JP0GMh9",
    "outputId": "c167c2ca-6d55-4dca-acf8-8e5bd887ef95"
   },
   "outputs": [
    {
     "data": {
      "image/png": "[encoded data removed]",
      "text/plain": [
       "<Figure size 432x288 with 1 Axes>"
      ]
     },
     "metadata": {
      "needs_background": "light",
      "tags": []
     },
     "output_type": "display_data"
    }
   ],
   "source": [
    "import matplotlib.pyplot as plt\n",
    "plt.plot(history.history[\"accuracy\"])\n",
    "plt.plot(history.history['val_accuracy'])\n",
    "plt.plot(history.history['loss'])\n",
    "plt.plot(history.history['val_loss'])\n",
    "plt.title(\"model accuracy\")\n",
    "plt.ylabel(\"Accuracy\")\n",
    "plt.xlabel(\"Epoch\")\n",
    "plt.legend([\"Accuracy\",\"Validation Accuracy\",\"loss\",\"Validation Loss\"])\n",
    "plt.show()"
   ]
  },
  {
   "cell_type": "markdown",
   "metadata": {
    "id": "m1sxnpPOGMk_"
   },
   "source": [
    "# cell to load best weights"
   ]
  },
  {
   "cell_type": "code",
   "execution_count": null,
   "metadata": {},
   "outputs": [],
   "source": [
    "import keras\n",
    "from keras.models import Sequential\n",
    "from keras.layers import Dense, Flatten\n",
    "from keras.layers import Conv2D, MaxPooling2D\n",
    "from keras.layers.normalization import BatchNormalization\n",
    "from keras import backend as K\n",
    "from keras.datasets import cifar100\n",
    "from keras.layers import ELU\n",
    "import numpy as np\n",
    "\n",
    "(x_train, y_train), (x_test, y_test) = cifar100.load_data(label_mode=\"fine\")\n",
    "\n",
    "x_train = x_train.astype('float32') \n",
    "x_test = x_test.astype('float32')\n",
    "x_train /= 255 #normalising the data.\n",
    "x_test /= 255 #normalising the data.\n",
    "print('x_train shape:', x_train.shape)\n",
    "print(x_train.shape[0], 'train samples')\n",
    "print(x_test.shape[0], 'test samples')\n",
    "\n",
    "# convert class vectors to binary class matrices\n",
    "y_train = keras.utils.to_categorical(y_train, num_classes)\n",
    "y_test = keras.utils.to_categorical(y_test, num_classes)\n",
    "\n",
    "initializer = keras.initializers.HeNormal()\n",
    "#layer = tf.keras.layers.Dense(3, kernel_initializer=initializer)\n",
    "\n",
    "model = Sequential()\n",
    "model.add(Conv2D(input_shape=(32,32,3),filters=64,kernel_initializer=initializer,bias_initializer=keras.initializers.Constant(0.1),kernel_size=(3,3),padding=\"same\", activation=\"relu\"))\n",
    "model.add(BatchNormalization())\n",
    "model.add(Conv2D(filters=64,kernel_initializer=initializer,bias_initializer=keras.initializers.Constant(0.1),kernel_size=(3,3),padding=\"same\", activation=\"relu\"))\n",
    "model.add(BatchNormalization())\n",
    "model.add(MaxPooling2D(pool_size=(2,2),strides=(2,2)))\n",
    "model.add(Conv2D(filters=128,kernel_initializer=initializer,bias_initializer=keras.initializers.Constant(0.1),kernel_size=(3,3), padding=\"same\"))\n",
    "model.add(BatchNormalization())\n",
    "model.add(Conv2D(filters=128,kernel_initializer=initializer,bias_initializer=keras.initializers.Constant(0.1),kernel_size=(3,3), padding=\"same\", activation=\"relu\"))\n",
    "model.add(BatchNormalization())\n",
    "model.add(MaxPooling2D(pool_size=(2,2),strides=(2,2)))\n",
    "model.add(BatchNormalization())\n",
    "model.add(Conv2D(filters=256, kernel_size=(3,3), padding=\"same\", activation=\"relu\"))\n",
    "model.add(BatchNormalization())\n",
    "model.add(Conv2D(filters=256, kernel_size=(3,3), padding=\"same\",bias_initializer=keras.initializers.Constant(0.1), activation=\"relu\"))\n",
    "model.add(Conv2D(filters=256, kernel_size=(3,3), padding=\"same\", activation=\"relu\"))\n",
    "model.add(BatchNormalization())\n",
    "model.add(MaxPooling2D(pool_size=(2,2),strides=(2,2)))\n",
    "model.add(Conv2D(filters=512, kernel_size=(3,3),kernel_initializer=initializer,bias_initializer=keras.initializers.Constant(0.1),padding=\"same\", activation=\"relu\"))\n",
    "model.add(Conv2D(filters=512, kernel_size=(3,3),kernel_initializer=initializer,bias_initializer=keras.initializers.Constant(0.1),padding=\"same\", activation=\"relu\"))\n",
    "model.add(BatchNormalization())\n",
    "model.add(Conv2D(filters=512, kernel_size=(3,3),kernel_initializer=initializer,bias_initializer=keras.initializers.Constant(0.1), padding=\"same\", activation=\"relu\"))\n",
    "model.add(MaxPooling2D(pool_size=(2,2),strides=(2,2)))\n",
    "model.add(Conv2D(filters=512, kernel_size=(3,3),kernel_initializer=initializer, padding=\"same\",bias_initializer=keras.initializers.Constant(0.1), activation=\"relu\"))\n",
    "model.add(BatchNormalization())\n",
    "model.add(Conv2D(filters=512, kernel_size=(3,3), padding=\"same\", activation=\"relu\"))\n",
    "model.add(Conv2D(filters=512, kernel_size=(3,3),kernel_initializer=initializer,bias_initializer=keras.initializers.Constant(0.1), padding=\"same\", activation=\"relu\"))\n",
    "model.add(BatchNormalization())\n",
    "model.add(MaxPooling2D(pool_size=(2,2),strides=(2,2)))\n",
    "model.add(Flatten())\n",
    "model.add(Dense(units=4096,kernel_initializer=initializer,bias_initializer=keras.initializers.Constant(0.1),activation=\"relu\"))\n",
    "model.add(Dense(units=4096,kernel_initializer=initializer,bias_initializer=keras.initializers.Constant(0.1),activation=\"relu\"))\n",
    "model.add(Dense(num_classes,kernel_initializer=initializer,bias_initializer=keras.initializers.Constant(0.1), activation='softmax'))\n",
    "\n",
    "model.load_weights('../weights/VGG16_SGD_With_BatchNormalization.hdf5')\n",
    "\n",
    "y_true = y_test.argmax(-1)\n",
    "y_pred = model.predict(x_test).argmax(-1)\n",
    "# generate confusion matrix\n",
    "from sklearn.metrics import confusion_matrix, precision_score, recall_score, accuracy_score\n",
    "confusion_matrix(y_true, y_pred)\n",
    "# calculate prec, recall, accuracy\n",
    "print(\"Prec: \"+ str(precision_score(y_true, y_pred, average='weighted')))\n",
    "print(\"Recall: \"+ str(recall_score(y_true, y_pred, average='weighted')))\n",
    "print(\"Accuracy: \" + str(accuracy_score(y_true, y_pred)))\n"
   ]
  }
 ],
 "metadata": {
  "accelerator": "GPU",
  "colab": {
   "collapsed_sections": [],
   "name": "VGG_SGD_BATCHNORM.ipynb",
   "provenance": []
  },
  "kernelspec": {
   "display_name": "Python 3",
   "language": "python",
   "name": "python3"
  },
  "language_info": {
   "codemirror_mode": {
    "name": "ipython",
    "version": 3
   },
   "file_extension": ".py",
   "mimetype": "text/x-python",
   "name": "python",
   "nbconvert_exporter": "python",
   "pygments_lexer": "ipython3",
   "version": "3.7.4"
  }
 },
 "nbformat": 4,
 "nbformat_minor": 1
}
